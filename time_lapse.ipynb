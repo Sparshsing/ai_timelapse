{
 "cells": [
  {
   "cell_type": "markdown",
   "metadata": {},
   "source": [
    "## Generate smooth Time lapse from multiple sequencial images"
   ]
  },
  {
   "cell_type": "code",
   "execution_count": 1,
   "metadata": {},
   "outputs": [
    {
     "name": "stderr",
     "output_type": "stream",
     "text": [
      "2025-01-10 11:56:13.267799: I tensorflow/core/platform/cpu_feature_guard.cc:182] This TensorFlow binary is optimized to use available CPU instructions in performance-critical operations.\n",
      "To enable the following instructions: AVX2 FMA, in other operations, rebuild TensorFlow with the appropriate compiler flags.\n",
      "2025-01-10 11:56:14.057122: W tensorflow/compiler/tf2tensorrt/utils/py_utils.cc:38] TF-TRT Warning: Could not find TensorRT\n",
      "/home/sparsh/miniconda3/envs/tf/lib/python3.9/site-packages/numba/np/ufunc/parallel.py:371: NumbaWarning: The TBB threading layer requires TBB version 2021 update 6 or later i.e., TBB_INTERFACE_VERSION >= 12060. Found TBB_INTERFACE_VERSION = 12050. The TBB threading layer is disabled.\n",
      "  warnings.warn(problem)\n"
     ]
    }
   ],
   "source": [
    "import os\n",
    "from pathlib import Path\n",
    "import numpy as np\n",
    "import tempfile\n",
    "import tensorflow as tf\n",
    "import mediapy\n",
    "import cv2\n",
    "from PIL import Image, ExifTags\n",
    "\n",
    "from natsort import natsorted\n",
    "import shutil\n",
    "from tqdm import tqdm\n",
    "from datetime import datetime\n",
    "import subprocess\n",
    "import math\n",
    "import mediapy as media\n",
    "import sys\n",
    "from typing import Generator, Iterable, List, Optional\n",
    "\n",
    "\n",
    "from eval import interpolator, util\n",
    "import fix_images"
   ]
  },
  {
   "cell_type": "markdown",
   "metadata": {},
   "source": [
    "## Config"
   ]
  },
  {
   "cell_type": "code",
   "execution_count": 2,
   "metadata": {},
   "outputs": [
    {
     "name": "stdout",
     "output_type": "stream",
     "text": [
      "Model already downloaded\n"
     ]
    }
   ],
   "source": [
    "# Download the pretrained model\n",
    "import gdown\n",
    "os.makedirs('pretrained_models/film_net/Style/saved_model', exist_ok=True)\n",
    "\n",
    "if os.path.exists('pretrained_models/film_net/Style/saved_model/saved_model.pb'):\n",
    "    print('Model already downloaded')\n",
    "else:\n",
    "  folder_url = 'https://drive.google.com/drive/folders/1i9Go1YI2qiFWeT5QtywNFmYAA74bhXWj'\n",
    "  gdown.download_folder(folder_url, output='pretrained_models/film_net/Style/saved_model', quiet=False)"
   ]
  },
  {
   "cell_type": "code",
   "execution_count": 31,
   "metadata": {},
   "outputs": [],
   "source": [
    "\n",
    "MAX_DIM = 1080\n",
    "# set no of interpolated frames between images\n",
    "MAX_INTERPOLATED_FRAMES = 63  # 1 less than powers of 2\n",
    "MODEL_PATH = \"pretrained_models/film_net/Style/saved_model\""
   ]
  },
  {
   "cell_type": "code",
   "execution_count": 32,
   "metadata": {},
   "outputs": [],
   "source": [
    "if MAX_INTERPOLATED_FRAMES + 1 not in (2, 4, 8, 16, 32, 64, 128):\n",
    "    raise ValueError(\"MAX_INTERPOLATED_FRAMES + 1 must be a power of 2\")"
   ]
  },
  {
   "cell_type": "code",
   "execution_count": 34,
   "metadata": {},
   "outputs": [],
   "source": [
    "input_dir = 'input_frames/shahrukh-khan'\n",
    "output_dir = 'output_frames/shahrukh-khan'\n",
    "preprocess_faces = True\n",
    "equal_intervals = True  # whether to use equal no of frames between images or decide based on date\n",
    "\n",
    "# applicable when equal_intervals is False\n",
    "# desired gap between frames in seconds (difference between dates of frames)\n",
    "# eg. set 3600 to generate 1 frame for every 1 hr gap in input images\n",
    "min_frame_duration = 3600 * 24\n",
    "\n",
    "processed_input_dir = tempfile.mkdtemp()\n",
    "temp_interpolated_frames_dir = tempfile.mkdtemp()"
   ]
  },
  {
   "cell_type": "markdown",
   "metadata": {},
   "source": [
    "## Plan"
   ]
  },
  {
   "cell_type": "code",
   "execution_count": 35,
   "metadata": {},
   "outputs": [],
   "source": [
    "# 1. Preprocess images\n",
    "# 2. for succesive pairs of images:\n",
    "# 3.     generate interpolated frames\n",
    "# 4.     add interpolated frames to the output directory\n",
    "# 5. generate video from output directory"
   ]
  },
  {
   "cell_type": "markdown",
   "metadata": {},
   "source": [
    "## Utility Functions"
   ]
  },
  {
   "cell_type": "code",
   "execution_count": 62,
   "metadata": {},
   "outputs": [],
   "source": [
    "\n",
    "# create empty output directory\n",
    "def create_empty_dir(dir_name):\n",
    "  if os.path.exists(dir_name):\n",
    "    shutil.rmtree(dir_name)\n",
    "  os.makedirs(dir_name)\n",
    "\n",
    "\n",
    "def resize_and_save(input_path, output_path, size):\n",
    "  if input_path.endswith(('.png', '.jpg', '.jpeg', '.bmp')):\n",
    "      img = Image.open(input_path)\n",
    "      img = img.resize(size, Image.Resampling.LANCZOS)\n",
    "      img.save(output_path)\n",
    "  else:\n",
    "      raise ValueError(f'Unsupported file format: {input_path}')\n",
    "\n",
    "\n",
    "# prepare input data\n",
    "def prepare_images(input_dir, processed_input_dir, preprocess_faces, size):\n",
    "  files = natsorted([f for f in os.listdir(input_dir) if f.endswith(('.png', '.jpg', '.jpeg', '.bmp'))])\n",
    "  if len(files) < 0:\n",
    "    raise FileNotFoundError('no images found in input directory')\n",
    "  \n",
    "  for f in tqdm(files, desc='Preparing images'):\n",
    "    if preprocess_faces:\n",
    "       fix_images.process_face_image(\n",
    "            os.path.join(input_dir, f),\n",
    "            os.path.join(processed_input_dir, f),\n",
    "            background_color=(255, 255, 255),  # White background\n",
    "            save_bbox_preview=False\n",
    "            )\n",
    "    else:\n",
    "        resize_and_save(os.path.join(input_dir, f), os.path.join(processed_input_dir, f), size)\n",
    "\n",
    "\n",
    "def get_new_size(image_path: str, max_dim: int = MAX_DIM) -> np.ndarray:\n",
    "    \"\"\"Resize the image so that the maximum dimension is `max_dim`.\"\"\"\n",
    "    image = cv2.imread(image_path)\n",
    "    h, w = image.shape[:2]\n",
    "    if h > w:\n",
    "        new_h = max_dim\n",
    "        new_w = int(w * new_h / h)\n",
    "    else:\n",
    "        new_w = max_dim\n",
    "        new_h = int(h * new_w / w)\n",
    "    return (new_w, new_h)\n",
    "\n",
    "\n",
    "def string_to_timestamp(datetime_str):\n",
    "    # Convert the datetime string to a datetime object\n",
    "    timestamp = datetime.strptime(datetime_str, \"%Y%m%d_%H%M%S\")\n",
    "    return timestamp\n",
    "\n",
    "\n",
    "def timestamp_to_string(timestamp):\n",
    "    # Convert the timestamp number to a datetime object\n",
    "    dt = datetime.fromtimestamp(timestamp)\n",
    "    # Format the datetime object to the desired string format\n",
    "    formatted_string = dt.strftime(\"%Y%m%d_%H%M%S\")\n",
    "    return formatted_string\n",
    "\n",
    "\n",
    "def choose_evenly_spaced_timestamps(timestamps, k):\n",
    "    # Ensure we have at least k timestamps\n",
    "    if k > len(timestamps):\n",
    "        raise ValueError(\"k cannot be greater than the number of timestamps\")\n",
    "\n",
    "    # Calculate the interval between timestamps\n",
    "    n = len(timestamps)\n",
    "    interval = (n - 1) / (k - 1)\n",
    "\n",
    "    # Select the timestamps\n",
    "    chosen_timestamps = []\n",
    "    for i in range(k):\n",
    "        index = round(i * interval)\n",
    "        chosen_timestamps.append(timestamps[index])\n",
    "\n",
    "    return chosen_timestamps\n",
    "\n",
    "\n",
    "def save_video(frames, out_path):\n",
    "    ffmpeg_path = util.get_ffmpeg_path()\n",
    "    mediapy.set_ffmpeg(ffmpeg_path)\n",
    "    mediapy.write_video(out_path, frames, fps=30)\n",
    "\n",
    "\n",
    "def save_frames(frames, output_dir, format='jpg'):\n",
    "    \"\"\"\n",
    "    Save interpolated frames to the specified output directory and return the output paths.\n",
    "    Args:\n",
    "        frames: List of image arrays\n",
    "        output_dir: Directory to save frames\n",
    "        format: Image format to save (jpg/png)\n",
    "    Returns:\n",
    "        list: List of file paths where the frames are saved.\n",
    "    \"\"\"\n",
    "    output_paths = []\n",
    "    for idx, frame in enumerate(frames):\n",
    "        output_path = os.path.join(output_dir, f'frame_{idx:06d}.{format}')\n",
    "        util.write_image(output_path, frame)\n",
    "        output_paths.append(output_path)\n",
    "    return output_paths\n",
    "\n",
    "\n",
    "def write_video_from_images(image_dir, output_path, fps):\n",
    "    image_files = natsorted([f for f in os.listdir(image_dir) if f.endswith(('.png', '.jpg', '.jpeg', '.bmp'))])\n",
    "    \n",
    "    if not image_files:\n",
    "        print(\"No images found in the directory.\")\n",
    "        return\n",
    "    \n",
    "    # Read the first image to get the dimensions\n",
    "    first_image_path = os.path.join(image_dir, image_files[0])\n",
    "    first_frame = cv2.imread(first_image_path)\n",
    "    height, width, layers = first_frame.shape\n",
    "    \n",
    "    # Initialize the video writer\n",
    "    fourcc = cv2.VideoWriter_fourcc(*'mp4v')  # Specify the codec\n",
    "    video_writer = cv2.VideoWriter(output_path, fourcc, fps, (width, height))\n",
    "    \n",
    "    for image_file in image_files:\n",
    "        image_path = os.path.join(image_dir, image_file)\n",
    "        frame = cv2.imread(image_path)\n",
    "        if frame is None:\n",
    "            print(f\"Skipping {image_path}, cannot read image.\")\n",
    "            continue\n",
    "        video_writer.write(frame)\n",
    "    \n",
    "    video_writer.release()\n",
    "    print(f\"Video saved to: {output_path}\")"
   ]
  },
  {
   "cell_type": "code",
   "execution_count": 37,
   "metadata": {},
   "outputs": [],
   "source": [
    "\n",
    "def interpolate_frames(image_1, image_2, times_to_interpolate, interpolator):\n",
    "  input_frames = [str(image_1), str(image_2)]\n",
    "\n",
    "  frames = list(\n",
    "      util.interpolate_recursively_from_files(\n",
    "          input_frames, times_to_interpolate, interpolator))\n",
    "  return frames"
   ]
  },
  {
   "cell_type": "markdown",
   "metadata": {},
   "source": [
    "## Main"
   ]
  },
  {
   "cell_type": "code",
   "execution_count": 38,
   "metadata": {},
   "outputs": [
    {
     "name": "stderr",
     "output_type": "stream",
     "text": [
      "Preparing images:   0%|          | 0/13 [00:00<?, ?it/s]INFO:fix_images:Processing image: input_frames/shahrukh-khan/1992_deewana.jpg\n",
      "INFO:fix_images:Image loaded successfully\n",
      "libEGL warning: MESA-LOADER: failed to open swrast: /usr/lib/dri/swrast_dri.so: cannot open shared object file: No such file or directory (search paths /usr/lib/x86_64-linux-gnu/dri:\\$${ORIGIN}/dri:/usr/lib/dri, suffix _dri)\n",
      "\n",
      "libEGL warning: MESA-LOADER: failed to open swrast: /usr/lib/dri/swrast_dri.so: cannot open shared object file: No such file or directory (search paths /usr/lib/x86_64-linux-gnu/dri:\\$${ORIGIN}/dri:/usr/lib/dri, suffix _dri)\n",
      "\n",
      "W0000 00:00:1736492930.935134   95361 inference_feedback_manager.cc:114] Feedback manager requires a model with a single signature inference. Disabling support for feedback tensors.\n",
      "INFO:fix_images:Face detected successfully\n",
      "INFO:fix_images:Image cropped and centered\n",
      "INFO:fix_images:Image resized\n",
      "INFO:fix_images:Background removed\n",
      "INFO:fix_images:Processed image saved to: /tmp/tmp9wwieqfj/1992_deewana.jpg\n",
      "Preparing images:   8%|▊         | 1/13 [00:00<00:09,  1.30it/s]INFO:fix_images:Processing image: input_frames/shahrukh-khan/1993_baazigar.jpg\n",
      "INFO:fix_images:Image loaded successfully\n",
      "libEGL warning: MESA-LOADER: failed to open swrast: /usr/lib/dri/swrast_dri.so: cannot open shared object file: No such file or directory (search paths /usr/lib/x86_64-linux-gnu/dri:\\$${ORIGIN}/dri:/usr/lib/dri, suffix _dri)\n",
      "\n",
      "libEGL warning: MESA-LOADER: failed to open swrast: /usr/lib/dri/swrast_dri.so: cannot open shared object file: No such file or directory (search paths /usr/lib/x86_64-linux-gnu/dri:\\$${ORIGIN}/dri:/usr/lib/dri, suffix _dri)\n",
      "\n",
      "W0000 00:00:1736492931.695862   95378 inference_feedback_manager.cc:114] Feedback manager requires a model with a single signature inference. Disabling support for feedback tensors.\n",
      "INFO:fix_images:Face detected successfully\n",
      "INFO:fix_images:Image cropped and centered\n",
      "INFO:fix_images:Image resized\n",
      "INFO:fix_images:Background removed\n",
      "INFO:fix_images:Processed image saved to: /tmp/tmp9wwieqfj/1993_baazigar.jpg\n",
      "Preparing images:  15%|█▌        | 2/13 [00:01<00:08,  1.36it/s]INFO:fix_images:Processing image: input_frames/shahrukh-khan/1995_ddlj.jpg\n",
      "INFO:fix_images:Image loaded successfully\n",
      "libEGL warning: MESA-LOADER: failed to open swrast: /usr/lib/dri/swrast_dri.so: cannot open shared object file: No such file or directory (search paths /usr/lib/x86_64-linux-gnu/dri:\\$${ORIGIN}/dri:/usr/lib/dri, suffix _dri)\n",
      "\n",
      "libEGL warning: MESA-LOADER: failed to open swrast: /usr/lib/dri/swrast_dri.so: cannot open shared object file: No such file or directory (search paths /usr/lib/x86_64-linux-gnu/dri:\\$${ORIGIN}/dri:/usr/lib/dri, suffix _dri)\n",
      "\n",
      "W0000 00:00:1736492932.404799   95398 inference_feedback_manager.cc:114] Feedback manager requires a model with a single signature inference. Disabling support for feedback tensors.\n",
      "INFO:fix_images:Face detected successfully\n",
      "INFO:fix_images:Image cropped and centered\n",
      "INFO:fix_images:Image resized\n",
      "INFO:fix_images:Background removed\n",
      "INFO:fix_images:Processed image saved to: /tmp/tmp9wwieqfj/1995_ddlj.jpg\n",
      "Preparing images:  23%|██▎       | 3/13 [00:02<00:07,  1.36it/s]INFO:fix_images:Processing image: input_frames/shahrukh-khan/1998_kuch_kuch_hota_hai.jpg\n",
      "INFO:fix_images:Image loaded successfully\n",
      "libEGL warning: MESA-LOADER: failed to open swrast: /usr/lib/dri/swrast_dri.so: cannot open shared object file: No such file or directory (search paths /usr/lib/x86_64-linux-gnu/dri:\\$${ORIGIN}/dri:/usr/lib/dri, suffix _dri)\n",
      "\n",
      "libEGL warning: MESA-LOADER: failed to open swrast: /usr/lib/dri/swrast_dri.so: cannot open shared object file: No such file or directory (search paths /usr/lib/x86_64-linux-gnu/dri:\\$${ORIGIN}/dri:/usr/lib/dri, suffix _dri)\n",
      "\n",
      "W0000 00:00:1736492933.143784   95413 inference_feedback_manager.cc:114] Feedback manager requires a model with a single signature inference. Disabling support for feedback tensors.\n",
      "INFO:fix_images:Face detected successfully\n",
      "INFO:fix_images:Image cropped and centered\n",
      "INFO:fix_images:Image resized\n",
      "INFO:fix_images:Background removed\n",
      "INFO:fix_images:Processed image saved to: /tmp/tmp9wwieqfj/1998_kuch_kuch_hota_hai.jpg\n",
      "Preparing images:  31%|███       | 4/13 [00:02<00:06,  1.36it/s]INFO:fix_images:Processing image: input_frames/shahrukh-khan/2001_kbkg.jpg\n",
      "INFO:fix_images:Image loaded successfully\n",
      "libEGL warning: MESA-LOADER: failed to open swrast: /usr/lib/dri/swrast_dri.so: cannot open shared object file: No such file or directory (search paths /usr/lib/x86_64-linux-gnu/dri:\\$${ORIGIN}/dri:/usr/lib/dri, suffix _dri)\n",
      "\n",
      "libEGL warning: MESA-LOADER: failed to open swrast: /usr/lib/dri/swrast_dri.so: cannot open shared object file: No such file or directory (search paths /usr/lib/x86_64-linux-gnu/dri:\\$${ORIGIN}/dri:/usr/lib/dri, suffix _dri)\n",
      "\n",
      "W0000 00:00:1736492933.873388   95430 inference_feedback_manager.cc:114] Feedback manager requires a model with a single signature inference. Disabling support for feedback tensors.\n",
      "INFO:fix_images:Face detected successfully\n",
      "INFO:fix_images:Image cropped and centered\n",
      "INFO:fix_images:Image resized\n",
      "INFO:fix_images:Background removed\n",
      "INFO:fix_images:Processed image saved to: /tmp/tmp9wwieqfj/2001_kbkg.jpg\n",
      "Preparing images:  38%|███▊      | 5/13 [00:03<00:05,  1.39it/s]INFO:fix_images:Processing image: input_frames/shahrukh-khan/2003_kal_ho_na_ho.jpeg\n",
      "INFO:fix_images:Image loaded successfully\n",
      "libEGL warning: MESA-LOADER: failed to open swrast: /usr/lib/dri/swrast_dri.so: cannot open shared object file: No such file or directory (search paths /usr/lib/x86_64-linux-gnu/dri:\\$${ORIGIN}/dri:/usr/lib/dri, suffix _dri)\n",
      "\n",
      "libEGL warning: MESA-LOADER: failed to open swrast: /usr/lib/dri/swrast_dri.so: cannot open shared object file: No such file or directory (search paths /usr/lib/x86_64-linux-gnu/dri:\\$${ORIGIN}/dri:/usr/lib/dri, suffix _dri)\n",
      "\n",
      "W0000 00:00:1736492934.572536   95446 inference_feedback_manager.cc:114] Feedback manager requires a model with a single signature inference. Disabling support for feedback tensors.\n",
      "INFO:fix_images:Face detected successfully\n",
      "INFO:fix_images:Image cropped and centered\n",
      "INFO:fix_images:Image resized\n",
      "INFO:fix_images:Background removed\n",
      "INFO:fix_images:Processed image saved to: /tmp/tmp9wwieqfj/2003_kal_ho_na_ho.jpeg\n",
      "Preparing images:  46%|████▌     | 6/13 [00:04<00:04,  1.40it/s]INFO:fix_images:Processing image: input_frames/shahrukh-khan/2006_kabh_alvida.jpg\n",
      "INFO:fix_images:Image loaded successfully\n",
      "libEGL warning: MESA-LOADER: failed to open swrast: /usr/lib/dri/swrast_dri.so: cannot open shared object file: No such file or directory (search paths /usr/lib/x86_64-linux-gnu/dri:\\$${ORIGIN}/dri:/usr/lib/dri, suffix _dri)\n",
      "\n",
      "libEGL warning: MESA-LOADER: failed to open swrast: /usr/lib/dri/swrast_dri.so: cannot open shared object file: No such file or directory (search paths /usr/lib/x86_64-linux-gnu/dri:\\$${ORIGIN}/dri:/usr/lib/dri, suffix _dri)\n",
      "\n",
      "W0000 00:00:1736492935.268152   95462 inference_feedback_manager.cc:114] Feedback manager requires a model with a single signature inference. Disabling support for feedback tensors.\n",
      "INFO:fix_images:Face detected successfully\n",
      "INFO:fix_images:Image cropped and centered\n",
      "INFO:fix_images:Image resized\n",
      "INFO:fix_images:Background removed\n",
      "INFO:fix_images:Processed image saved to: /tmp/tmp9wwieqfj/2006_kabh_alvida.jpg\n",
      "Preparing images:  54%|█████▍    | 7/13 [00:05<00:04,  1.40it/s]INFO:fix_images:Processing image: input_frames/shahrukh-khan/2009_billu.jpg\n",
      "INFO:fix_images:Image loaded successfully\n",
      "libEGL warning: MESA-LOADER: failed to open swrast: /usr/lib/dri/swrast_dri.so: cannot open shared object file: No such file or directory (search paths /usr/lib/x86_64-linux-gnu/dri:\\$${ORIGIN}/dri:/usr/lib/dri, suffix _dri)\n",
      "\n",
      "libEGL warning: MESA-LOADER: failed to open swrast: /usr/lib/dri/swrast_dri.so: cannot open shared object file: No such file or directory (search paths /usr/lib/x86_64-linux-gnu/dri:\\$${ORIGIN}/dri:/usr/lib/dri, suffix _dri)\n",
      "\n",
      "W0000 00:00:1736492935.992149   95478 inference_feedback_manager.cc:114] Feedback manager requires a model with a single signature inference. Disabling support for feedback tensors.\n",
      "INFO:fix_images:Face detected successfully\n",
      "INFO:fix_images:Image cropped and centered\n",
      "INFO:fix_images:Image resized\n",
      "INFO:fix_images:Background removed\n",
      "INFO:fix_images:Processed image saved to: /tmp/tmp9wwieqfj/2009_billu.jpg\n",
      "Preparing images:  62%|██████▏   | 8/13 [00:05<00:03,  1.39it/s]INFO:fix_images:Processing image: input_frames/shahrukh-khan/2011_don.jpg\n",
      "INFO:fix_images:Image loaded successfully\n",
      "libEGL warning: MESA-LOADER: failed to open swrast: /usr/lib/dri/swrast_dri.so: cannot open shared object file: No such file or directory (search paths /usr/lib/x86_64-linux-gnu/dri:\\$${ORIGIN}/dri:/usr/lib/dri, suffix _dri)\n",
      "\n",
      "libEGL warning: MESA-LOADER: failed to open swrast: /usr/lib/dri/swrast_dri.so: cannot open shared object file: No such file or directory (search paths /usr/lib/x86_64-linux-gnu/dri:\\$${ORIGIN}/dri:/usr/lib/dri, suffix _dri)\n",
      "\n",
      "W0000 00:00:1736492936.714490   95494 inference_feedback_manager.cc:114] Feedback manager requires a model with a single signature inference. Disabling support for feedback tensors.\n",
      "INFO:fix_images:Face detected successfully\n",
      "INFO:fix_images:Image cropped and centered\n",
      "INFO:fix_images:Image resized\n",
      "INFO:fix_images:Background removed\n",
      "INFO:fix_images:Processed image saved to: /tmp/tmp9wwieqfj/2011_don.jpg\n",
      "Preparing images:  69%|██████▉   | 9/13 [00:06<00:02,  1.38it/s]INFO:fix_images:Processing image: input_frames/shahrukh-khan/2014_hny.jpg\n",
      "INFO:fix_images:Image loaded successfully\n",
      "libEGL warning: MESA-LOADER: failed to open swrast: /usr/lib/dri/swrast_dri.so: cannot open shared object file: No such file or directory (search paths /usr/lib/x86_64-linux-gnu/dri:\\$${ORIGIN}/dri:/usr/lib/dri, suffix _dri)\n",
      "\n",
      "libEGL warning: MESA-LOADER: failed to open swrast: /usr/lib/dri/swrast_dri.so: cannot open shared object file: No such file or directory (search paths /usr/lib/x86_64-linux-gnu/dri:\\$${ORIGIN}/dri:/usr/lib/dri, suffix _dri)\n",
      "\n",
      "W0000 00:00:1736492937.447572   95510 inference_feedback_manager.cc:114] Feedback manager requires a model with a single signature inference. Disabling support for feedback tensors.\n",
      "INFO:fix_images:Face detected successfully\n",
      "INFO:fix_images:Image cropped and centered\n",
      "INFO:fix_images:Image resized\n",
      "INFO:fix_images:Background removed\n",
      "INFO:fix_images:Processed image saved to: /tmp/tmp9wwieqfj/2014_hny.jpg\n",
      "Preparing images:  77%|███████▋  | 10/13 [00:07<00:02,  1.39it/s]INFO:fix_images:Processing image: input_frames/shahrukh-khan/2017_raees.jpg\n",
      "INFO:fix_images:Image loaded successfully\n",
      "libEGL warning: MESA-LOADER: failed to open swrast: /usr/lib/dri/swrast_dri.so: cannot open shared object file: No such file or directory (search paths /usr/lib/x86_64-linux-gnu/dri:\\$${ORIGIN}/dri:/usr/lib/dri, suffix _dri)\n",
      "\n",
      "libEGL warning: MESA-LOADER: failed to open swrast: /usr/lib/dri/swrast_dri.so: cannot open shared object file: No such file or directory (search paths /usr/lib/x86_64-linux-gnu/dri:\\$${ORIGIN}/dri:/usr/lib/dri, suffix _dri)\n",
      "\n",
      "W0000 00:00:1736492938.166610   95526 inference_feedback_manager.cc:114] Feedback manager requires a model with a single signature inference. Disabling support for feedback tensors.\n",
      "INFO:fix_images:Face detected successfully\n",
      "INFO:fix_images:Image cropped and centered\n",
      "INFO:fix_images:Image resized\n",
      "INFO:fix_images:Background removed\n",
      "INFO:fix_images:Processed image saved to: /tmp/tmp9wwieqfj/2017_raees.jpg\n",
      "Preparing images:  85%|████████▍ | 11/13 [00:07<00:01,  1.39it/s]INFO:fix_images:Processing image: input_frames/shahrukh-khan/2019_media.jpg\n",
      "INFO:fix_images:Image loaded successfully\n",
      "libEGL warning: MESA-LOADER: failed to open swrast: /usr/lib/dri/swrast_dri.so: cannot open shared object file: No such file or directory (search paths /usr/lib/x86_64-linux-gnu/dri:\\$${ORIGIN}/dri:/usr/lib/dri, suffix _dri)\n",
      "\n",
      "libEGL warning: MESA-LOADER: failed to open swrast: /usr/lib/dri/swrast_dri.so: cannot open shared object file: No such file or directory (search paths /usr/lib/x86_64-linux-gnu/dri:\\$${ORIGIN}/dri:/usr/lib/dri, suffix _dri)\n",
      "\n",
      "W0000 00:00:1736492938.879571   95542 inference_feedback_manager.cc:114] Feedback manager requires a model with a single signature inference. Disabling support for feedback tensors.\n",
      "INFO:fix_images:Face detected successfully\n",
      "INFO:fix_images:Image cropped and centered\n",
      "INFO:fix_images:Image resized\n",
      "INFO:fix_images:Background removed\n",
      "INFO:fix_images:Processed image saved to: /tmp/tmp9wwieqfj/2019_media.jpg\n",
      "Preparing images:  92%|█████████▏| 12/13 [00:08<00:00,  1.38it/s]INFO:fix_images:Processing image: input_frames/shahrukh-khan/2023_pathan.jpg\n",
      "INFO:fix_images:Image loaded successfully\n",
      "libEGL warning: MESA-LOADER: failed to open swrast: /usr/lib/dri/swrast_dri.so: cannot open shared object file: No such file or directory (search paths /usr/lib/x86_64-linux-gnu/dri:\\$${ORIGIN}/dri:/usr/lib/dri, suffix _dri)\n",
      "\n",
      "libEGL warning: MESA-LOADER: failed to open swrast: /usr/lib/dri/swrast_dri.so: cannot open shared object file: No such file or directory (search paths /usr/lib/x86_64-linux-gnu/dri:\\$${ORIGIN}/dri:/usr/lib/dri, suffix _dri)\n",
      "\n",
      "W0000 00:00:1736492939.619268   95557 inference_feedback_manager.cc:114] Feedback manager requires a model with a single signature inference. Disabling support for feedback tensors.\n",
      "INFO:fix_images:Face detected successfully\n",
      "INFO:fix_images:Image cropped and centered\n",
      "INFO:fix_images:Image resized\n",
      "INFO:fix_images:Background removed\n",
      "INFO:fix_images:Processed image saved to: /tmp/tmp9wwieqfj/2023_pathan.jpg\n",
      "Preparing images: 100%|██████████| 13/13 [00:09<00:00,  1.38it/s]\n"
     ]
    },
    {
     "data": {
      "text/plain": [
       "13"
      ]
     },
     "execution_count": 38,
     "metadata": {},
     "output_type": "execute_result"
    }
   ],
   "source": [
    "# Preprocess images\n",
    "files = natsorted([f for f in os.listdir(input_dir) if f.endswith(('.png', '.jpg', '.jpeg', '.bmp'))])\n",
    "new_size = get_new_size(os.path.join(input_dir, files[0]))\n",
    "create_empty_dir(processed_input_dir)\n",
    "prepare_images(input_dir, processed_input_dir, preprocess_faces, new_size)\n",
    "files = natsorted([f for f in os.listdir(processed_input_dir) if f.endswith(('.png', '.jpg', '.jpeg', '.bmp'))])\n",
    "len(files)\n"
   ]
  },
  {
   "cell_type": "code",
   "execution_count": 40,
   "metadata": {},
   "outputs": [
    {
     "name": "stdout",
     "output_type": "stream",
     "text": [
      "Filename: 1992_deewana.jpg\n",
      "Filename: 1993_baazigar.jpg\n",
      "Filename: 1995_ddlj.jpg\n",
      "Filename: 1998_kuch_kuch_hota_hai.jpg\n",
      "Filename: 2001_kbkg.jpg\n",
      "Filename: 2003_kal_ho_na_ho.jpeg\n",
      "Filename: 2006_kabh_alvida.jpg\n",
      "Filename: 2009_billu.jpg\n",
      "Filename: 2011_don.jpg\n",
      "Filename: 2014_hny.jpg\n",
      "Filename: 2017_raees.jpg\n",
      "Filename: 2019_media.jpg\n",
      "Filename: 2023_pathan.jpg\n"
     ]
    }
   ],
   "source": [
    "if not equal_intervals:\n",
    "    for file in files:\n",
    "      timestamp = string_to_timestamp(file.split('.')[0])\n",
    "      print(f\"Filename: {file}, Datetime: {timestamp}\")\n",
    "else:\n",
    "   for file in files:\n",
    "      print(f\"Filename: {file}\")"
   ]
  },
  {
   "cell_type": "code",
   "execution_count": 54,
   "metadata": {},
   "outputs": [
    {
     "name": "stdout",
     "output_type": "stream",
     "text": [
      "Total frames: 13\n",
      "processing frame 0\n"
     ]
    },
    {
     "name": "stderr",
     "output_type": "stream",
     "text": [
      "2025-01-10 14:24:05.836596: I tensorflow/core/common_runtime/executor.cc:1197] [/device:CPU:0] (DEBUG INFO) Executor start aborting (this does not indicate an error and you can ignore this message): INVALID_ARGUMENT: You must feed a value for placeholder tensor 'inputs' with dtype float and shape [1,1000,1000,3]\n",
      "\t [[{{node inputs}}]]\n",
      "100%|\u001b[32m███████████████████████████████████████████████████████████████\u001b[0m| 63/63 [01:01<00:00,  1.02it/s]\u001b[0m\n"
     ]
    },
    {
     "name": "stdout",
     "output_type": "stream",
     "text": [
      "processing frame 1\n"
     ]
    },
    {
     "name": "stderr",
     "output_type": "stream",
     "text": [
      "100%|\u001b[32m███████████████████████████████████████████████████████████████\u001b[0m| 63/63 [01:00<00:00,  1.05it/s]\u001b[0m\n"
     ]
    },
    {
     "name": "stdout",
     "output_type": "stream",
     "text": [
      "processing frame 2\n"
     ]
    },
    {
     "name": "stderr",
     "output_type": "stream",
     "text": [
      "100%|\u001b[32m███████████████████████████████████████████████████████████████\u001b[0m| 63/63 [01:00<00:00,  1.05it/s]\u001b[0m\n"
     ]
    },
    {
     "name": "stdout",
     "output_type": "stream",
     "text": [
      "processing frame 3\n"
     ]
    },
    {
     "name": "stderr",
     "output_type": "stream",
     "text": [
      "100%|\u001b[32m███████████████████████████████████████████████████████████████\u001b[0m| 63/63 [01:00<00:00,  1.05it/s]\u001b[0m\n"
     ]
    },
    {
     "name": "stdout",
     "output_type": "stream",
     "text": [
      "processing frame 4\n"
     ]
    },
    {
     "name": "stderr",
     "output_type": "stream",
     "text": [
      "100%|\u001b[32m███████████████████████████████████████████████████████████████\u001b[0m| 63/63 [01:00<00:00,  1.04it/s]\u001b[0m\n"
     ]
    },
    {
     "name": "stdout",
     "output_type": "stream",
     "text": [
      "processing frame 5\n"
     ]
    },
    {
     "name": "stderr",
     "output_type": "stream",
     "text": [
      "100%|\u001b[32m███████████████████████████████████████████████████████████████\u001b[0m| 63/63 [01:00<00:00,  1.04it/s]\u001b[0m\n"
     ]
    },
    {
     "name": "stdout",
     "output_type": "stream",
     "text": [
      "processing frame 6\n"
     ]
    },
    {
     "name": "stderr",
     "output_type": "stream",
     "text": [
      "100%|\u001b[32m███████████████████████████████████████████████████████████████\u001b[0m| 63/63 [01:00<00:00,  1.05it/s]\u001b[0m\n"
     ]
    },
    {
     "name": "stdout",
     "output_type": "stream",
     "text": [
      "processing frame 7\n"
     ]
    },
    {
     "name": "stderr",
     "output_type": "stream",
     "text": [
      "100%|\u001b[32m███████████████████████████████████████████████████████████████\u001b[0m| 63/63 [01:00<00:00,  1.04it/s]\u001b[0m\n"
     ]
    },
    {
     "name": "stdout",
     "output_type": "stream",
     "text": [
      "processing frame 8\n"
     ]
    },
    {
     "name": "stderr",
     "output_type": "stream",
     "text": [
      "100%|\u001b[32m███████████████████████████████████████████████████████████████\u001b[0m| 63/63 [01:00<00:00,  1.04it/s]\u001b[0m\n"
     ]
    },
    {
     "name": "stdout",
     "output_type": "stream",
     "text": [
      "processing frame 9\n"
     ]
    },
    {
     "name": "stderr",
     "output_type": "stream",
     "text": [
      "100%|\u001b[32m███████████████████████████████████████████████████████████████\u001b[0m| 63/63 [01:00<00:00,  1.05it/s]\u001b[0m\n"
     ]
    },
    {
     "name": "stdout",
     "output_type": "stream",
     "text": [
      "processing frame 10\n"
     ]
    },
    {
     "name": "stderr",
     "output_type": "stream",
     "text": [
      "100%|\u001b[32m███████████████████████████████████████████████████████████████\u001b[0m| 63/63 [01:00<00:00,  1.05it/s]\u001b[0m\n"
     ]
    },
    {
     "name": "stdout",
     "output_type": "stream",
     "text": [
      "processing frame 11\n"
     ]
    },
    {
     "name": "stderr",
     "output_type": "stream",
     "text": [
      "100%|\u001b[32m███████████████████████████████████████████████████████████████\u001b[0m| 63/63 [01:00<00:00,  1.05it/s]\u001b[0m\n"
     ]
    }
   ],
   "source": [
    "# Iterate through pairs of consecutive frames\n",
    "\n",
    "interpolator_model = interpolator.Interpolator(MODEL_PATH, None)\n",
    "print('Total frames:', len(files))\n",
    "create_empty_dir(output_dir)\n",
    "for i in range(len(files) - 1):\n",
    "    print('processing frame', i)\n",
    "    start_filename = files[i]\n",
    "    end_filename = files[i + 1]\n",
    "\n",
    "    if not equal_intervals:\n",
    "        start_time = string_to_timestamp(start_filename.split('.')[0])\n",
    "        end_time = string_to_timestamp(end_filename.split('.')[0])\n",
    "\n",
    "    # Calculate times_to_interpolate for the required number of intermediate frames\n",
    "    if equal_intervals:\n",
    "          num_frames_needed = MAX_INTERPOLATED_FRAMES\n",
    "    else:\n",
    "          # Calculate the time difference in hours\n",
    "          time_diff = (end_time - start_time).total_seconds()\n",
    "          num_frames_needed = round(time_diff / min_frame_duration) - 1\n",
    "          num_frames_needed = min(num_frames_needed, MAX_INTERPOLATED_FRAMES)\n",
    "    times_to_interpolate = math.ceil(math.log2(num_frames_needed+1))  # n_intermediate = 2^k - 1\n",
    "\n",
    "    frame_1 = os.path.join(processed_input_dir, start_filename)\n",
    "    frame_2 = os.path.join(processed_input_dir, end_filename)\n",
    "    output_frames = interpolate_frames(frame_1, frame_2, times_to_interpolate, interpolator_model)\n",
    "\n",
    "    create_empty_dir(temp_interpolated_frames_dir)\n",
    "    save_frames(output_frames, temp_interpolated_frames_dir)\n",
    "    interpolated_files = natsorted([f for f in os.listdir(temp_interpolated_frames_dir) if f.endswith(('.png', '.jpg', '.jpeg', '.bmp'))])\n",
    "\n",
    "    if not equal_intervals:\n",
    "        timestamps = np.linspace(start_time.timestamp(), end_time.timestamp(), len(interpolated_files))\n",
    "        # find required frames from generated frames (can be extra)\n",
    "        chosen_timestamps = choose_evenly_spaced_timestamps(timestamps, num_frames_needed+2)\n",
    "        \n",
    "        for filename, timestamp in zip(interpolated_files, timestamps):\n",
    "            if timestamp not in chosen_timestamps:\n",
    "                continue\n",
    "            new_filename = f\"{timestamp_to_string(timestamp)}{os.path.splitext(filename)[1]}\"\n",
    "            shutil.copyfile(os.path.join(temp_interpolated_frames_dir, filename), os.path.join(output_dir, new_filename))\n",
    "    else:\n",
    "        for interp_index, filename in enumerate(interpolated_files[:-1]):\n",
    "          new_filename = f\"{start_filename.split('.')[0]}_{interp_index}{os.path.splitext(filename)[1]}\"\n",
    "          shutil.copyfile(os.path.join(temp_interpolated_frames_dir, filename), os.path.join(output_dir, new_filename))\n",
    "          # include end frame in last iteration\n",
    "          if i == len(files) - 2:\n",
    "              new_filename = f\"{end_filename.split('.')[0]}_0{os.path.splitext(filename)[1]}\"\n",
    "              shutil.copyfile(os.path.join(processed_input_dir, end_filename), os.path.join(output_dir, new_filename))\n",
    "\n"
   ]
  },
  {
   "cell_type": "code",
   "execution_count": 63,
   "metadata": {},
   "outputs": [
    {
     "name": "stdout",
     "output_type": "stream",
     "text": [
      "Video saved to: output_frames/shahrukh-khan.mp4\n"
     ]
    }
   ],
   "source": [
    "\n",
    "# generate video from output directory\n",
    "output_path = str(output_dir) + '.mp4'\n",
    "fps = 24\n",
    "\n",
    "write_video_from_images(output_dir, output_path, fps)"
   ]
  },
  {
   "cell_type": "code",
   "execution_count": 65,
   "metadata": {},
   "outputs": [
    {
     "data": {
      "text/plain": [
       "'/tmp/tmp9wwieqfj'"
      ]
     },
     "execution_count": 65,
     "metadata": {},
     "output_type": "execute_result"
    }
   ],
   "source": [
    "processed_input_dir"
   ]
  },
  {
   "cell_type": "code",
   "execution_count": 66,
   "metadata": {},
   "outputs": [
    {
     "data": {
      "text/plain": [
       "'.jpg'"
      ]
     },
     "execution_count": 66,
     "metadata": {},
     "output_type": "execute_result"
    }
   ],
   "source": [
    "os.path.splitext(filename)[1]"
   ]
  },
  {
   "cell_type": "code",
   "execution_count": null,
   "metadata": {},
   "outputs": [],
   "source": [
    "# \n",
    "os.path.splitext(filename)"
   ]
  }
 ],
 "metadata": {
  "kernelspec": {
   "display_name": "tf",
   "language": "python",
   "name": "python3"
  },
  "language_info": {
   "codemirror_mode": {
    "name": "ipython",
    "version": 3
   },
   "file_extension": ".py",
   "mimetype": "text/x-python",
   "name": "python",
   "nbconvert_exporter": "python",
   "pygments_lexer": "ipython3",
   "version": "3.9.16"
  }
 },
 "nbformat": 4,
 "nbformat_minor": 2
}
