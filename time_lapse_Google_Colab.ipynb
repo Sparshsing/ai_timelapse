{
  "cells": [
    {
      "cell_type": "markdown",
      "metadata": {},
      "source": [
        "<a href=\"https://colab.research.google.com/github/Sparshsing/ai_timelapse/blob/main/time_lapse_Google_Colab.ipynb\" target=\"_parent\"><img src=\"https://colab.research.google.com/assets/colab-badge.svg\" alt=\"Open In Colab\"/></a>"
      ]
    },
    {
      "cell_type": "markdown",
      "metadata": {
        "id": "61-YrGoj3k2i"
      },
      "source": [
        "## Generate smooth Time lapse from multiple sequencial images"
      ]
    },
    {
      "cell_type": "code",
      "execution_count": 1,
      "metadata": {
        "colab": {
          "base_uri": "https://localhost:8080/"
        },
        "id": "_kgDDtTe46tC",
        "outputId": "c83f84b4-3650-4f82-e259-5e13d7c0bf53"
      },
      "outputs": [
        {
          "name": "stdout",
          "output_type": "stream",
          "text": [
            "Cloning into 'ai_timelapse'...\n",
            "remote: Enumerating objects: 107, done.\u001b[K\n",
            "remote: Total 107 (delta 0), reused 0 (delta 0), pack-reused 107 (from 1)\u001b[K\n",
            "Receiving objects: 100% (107/107), 83.16 MiB | 9.48 MiB/s, done.\n",
            "Resolving deltas: 100% (31/31), done.\n",
            "Updating files: 100% (56/56), done.\n"
          ]
        }
      ],
      "source": [
        "!git clone https://github.com/Sparshsing/ai_timelapse.git"
      ]
    },
    {
      "cell_type": "markdown",
      "metadata": {
        "id": "jXJtupRrcYsf"
      },
      "source": [
        "### Instructions\n",
        "\n",
        "1. Select runtime as T4 GPU from Settings.\n",
        "2. Change the input and output paths and other settings. You can create a new folder inside ai_timelapse/sample_data and upload you image files. [After running the above cell]\n",
        "3. Run the notebook. Notebook will automatically download the github repository, install requirements and download models."
      ]
    },
    {
      "cell_type": "code",
      "execution_count": 2,
      "metadata": {
        "colab": {
          "base_uri": "https://localhost:8080/"
        },
        "id": "kREPNgXA5tnY",
        "outputId": "0d2feb4d-b4b6-4957-dbe2-abd6ed345538"
      },
      "outputs": [
        {
          "name": "stdout",
          "output_type": "stream",
          "text": [
            "/content/ai_timelapse\n"
          ]
        }
      ],
      "source": [
        "# change directory to ai_timelapse\n",
        "%cd ai_timelapse"
      ]
    },
    {
      "cell_type": "code",
      "execution_count": 3,
      "metadata": {
        "colab": {
          "base_uri": "https://localhost:8080/",
          "height": 36
        },
        "id": "lpfHWX8L5EL1",
        "outputId": "33fdec7e-9ebe-44a7-d2a5-7199d40eb591"
      },
      "outputs": [
        {
          "data": {
            "application/vnd.google.colaboratory.intrinsic+json": {
              "type": "string"
            },
            "text/plain": [
              "'/content/ai_timelapse'"
            ]
          },
          "execution_count": 3,
          "metadata": {},
          "output_type": "execute_result"
        }
      ],
      "source": [
        "import os\n",
        "os.getcwd()"
      ]
    },
    {
      "cell_type": "code",
      "execution_count": 4,
      "metadata": {
        "colab": {
          "base_uri": "https://localhost:8080/"
        },
        "id": "Ksc3jxlD5guf",
        "outputId": "2e2fa668-714d-4e21-d5c4-dba2c8817b51"
      },
      "outputs": [
        {
          "name": "stdout",
          "output_type": "stream",
          "text": [
            "Tue Apr 22 13:01:25 2025       \n",
            "+-----------------------------------------------------------------------------------------+\n",
            "| NVIDIA-SMI 550.54.15              Driver Version: 550.54.15      CUDA Version: 12.4     |\n",
            "|-----------------------------------------+------------------------+----------------------+\n",
            "| GPU  Name                 Persistence-M | Bus-Id          Disp.A | Volatile Uncorr. ECC |\n",
            "| Fan  Temp   Perf          Pwr:Usage/Cap |           Memory-Usage | GPU-Util  Compute M. |\n",
            "|                                         |                        |               MIG M. |\n",
            "|=========================================+========================+======================|\n",
            "|   0  Tesla T4                       Off |   00000000:00:04.0 Off |                    0 |\n",
            "| N/A   50C    P8              9W /   70W |       0MiB /  15360MiB |      0%      Default |\n",
            "|                                         |                        |                  N/A |\n",
            "+-----------------------------------------+------------------------+----------------------+\n",
            "                                                                                         \n",
            "+-----------------------------------------------------------------------------------------+\n",
            "| Processes:                                                                              |\n",
            "|  GPU   GI   CI        PID   Type   Process name                              GPU Memory |\n",
            "|        ID   ID                                                               Usage      |\n",
            "|=========================================================================================|\n",
            "|  No running processes found                                                             |\n",
            "+-----------------------------------------------------------------------------------------+\n"
          ]
        }
      ],
      "source": [
        "# check GPU (select T4 runtime in settings if error)\n",
        "!nvidia-smi"
      ]
    },
    {
      "cell_type": "code",
      "execution_count": 5,
      "metadata": {
        "id": "IiX6Zudb-qAp"
      },
      "outputs": [],
      "source": [
        "# assert that python version is less than 3.12\n",
        "import sys\n",
        "assert sys.version_info < (3, 12), \"Python version must be less than 3.12\""
      ]
    },
    {
      "cell_type": "code",
      "execution_count": 6,
      "metadata": {
        "colab": {
          "base_uri": "https://localhost:8080/"
        },
        "collapsed": true,
        "id": "18PAgYHM7cW6",
        "outputId": "b176e9f8-f35e-46d9-8445-d2ffd08d14cf"
      },
      "outputs": [
        {
          "name": "stdout",
          "output_type": "stream",
          "text": [
            "Requirement already satisfied: tensorflow-datasets in /usr/local/lib/python3.11/dist-packages (from -r requirements.txt (line 3)) (4.9.8)\n",
            "Collecting tensorflow-addons (from -r requirements.txt (line 4))\n",
            "  Downloading tensorflow_addons-0.23.0-cp311-cp311-manylinux_2_17_x86_64.manylinux2014_x86_64.whl.metadata (1.8 kB)\n",
            "Requirement already satisfied: absl-py in /usr/local/lib/python3.11/dist-packages (from -r requirements.txt (line 5)) (1.4.0)\n",
            "Requirement already satisfied: gin-config in /usr/local/lib/python3.11/dist-packages (from -r requirements.txt (line 6)) (0.5.0)\n",
            "Collecting parameterized (from -r requirements.txt (line 7))\n",
            "  Downloading parameterized-0.9.0-py2.py3-none-any.whl.metadata (18 kB)\n",
            "Collecting mediapy (from -r requirements.txt (line 8))\n",
            "  Downloading mediapy-1.2.3-py3-none-any.whl.metadata (4.8 kB)\n",
            "Requirement already satisfied: scikit-image in /usr/local/lib/python3.11/dist-packages (from -r requirements.txt (line 9)) (0.25.2)\n",
            "Collecting apache-beam (from -r requirements.txt (line 10))\n",
            "  Downloading apache_beam-2.64.0-cp311-cp311-manylinux_2_17_x86_64.manylinux2014_x86_64.whl.metadata (9.4 kB)\n",
            "Requirement already satisfied: google-cloud-bigquery-storage in /usr/local/lib/python3.11/dist-packages (from -r requirements.txt (line 11)) (2.30.0)\n",
            "Requirement already satisfied: natsort in /usr/local/lib/python3.11/dist-packages (from -r requirements.txt (line 12)) (8.4.0)\n",
            "Requirement already satisfied: gdown in /usr/local/lib/python3.11/dist-packages (from -r requirements.txt (line 13)) (5.2.0)\n",
            "Requirement already satisfied: tqdm in /usr/local/lib/python3.11/dist-packages (from -r requirements.txt (line 14)) (4.67.1)\n",
            "Requirement already satisfied: opencv-python in /usr/local/lib/python3.11/dist-packages (from -r requirements.txt (line 15)) (4.11.0.86)\n",
            "Collecting mediapipe (from -r requirements.txt (line 16))\n",
            "  Downloading mediapipe-0.10.21-cp311-cp311-manylinux_2_28_x86_64.whl.metadata (9.7 kB)\n",
            "Collecting rembg (from -r requirements.txt (line 17))\n",
            "  Downloading rembg-2.0.65-py3-none-any.whl.metadata (20 kB)\n",
            "Requirement already satisfied: numpy in /usr/local/lib/python3.11/dist-packages (from -r requirements.txt (line 18)) (2.0.2)\n",
            "Collecting onnxruntime (from -r requirements.txt (line 19))\n",
            "  Downloading onnxruntime-1.21.1-cp311-cp311-manylinux_2_27_x86_64.manylinux_2_28_x86_64.whl.metadata (4.5 kB)\n",
            "Requirement already satisfied: dlib in /usr/local/lib/python3.11/dist-packages (from -r requirements.txt (line 20)) (19.24.6)\n",
            "Requirement already satisfied: array_record>=0.5.0 in /usr/local/lib/python3.11/dist-packages (from tensorflow-datasets->-r requirements.txt (line 3)) (0.7.1)\n",
            "Requirement already satisfied: dm-tree in /usr/local/lib/python3.11/dist-packages (from tensorflow-datasets->-r requirements.txt (line 3)) (0.1.9)\n",
            "Requirement already satisfied: etils>=1.9.1 in /usr/local/lib/python3.11/dist-packages (from etils[edc,enp,epath,epy,etree]>=1.9.1; python_version >= \"3.11\"->tensorflow-datasets->-r requirements.txt (line 3)) (1.12.2)\n",
            "Requirement already satisfied: immutabledict in /usr/local/lib/python3.11/dist-packages (from tensorflow-datasets->-r requirements.txt (line 3)) (4.2.1)\n",
            "Requirement already satisfied: promise in /usr/local/lib/python3.11/dist-packages (from tensorflow-datasets->-r requirements.txt (line 3)) (2.3)\n",
            "Requirement already satisfied: protobuf>=3.20 in /usr/local/lib/python3.11/dist-packages (from tensorflow-datasets->-r requirements.txt (line 3)) (5.29.4)\n",
            "Requirement already satisfied: psutil in /usr/local/lib/python3.11/dist-packages (from tensorflow-datasets->-r requirements.txt (line 3)) (5.9.5)\n",
            "Requirement already satisfied: pyarrow in /usr/local/lib/python3.11/dist-packages (from tensorflow-datasets->-r requirements.txt (line 3)) (18.1.0)\n",
            "Requirement already satisfied: requests>=2.19.0 in /usr/local/lib/python3.11/dist-packages (from tensorflow-datasets->-r requirements.txt (line 3)) (2.32.3)\n",
            "Requirement already satisfied: simple_parsing in /usr/local/lib/python3.11/dist-packages (from tensorflow-datasets->-r requirements.txt (line 3)) (0.1.7)\n",
            "Requirement already satisfied: tensorflow-metadata in /usr/local/lib/python3.11/dist-packages (from tensorflow-datasets->-r requirements.txt (line 3)) (1.17.1)\n",
            "Requirement already satisfied: termcolor in /usr/local/lib/python3.11/dist-packages (from tensorflow-datasets->-r requirements.txt (line 3)) (3.0.1)\n",
            "Requirement already satisfied: toml in /usr/local/lib/python3.11/dist-packages (from tensorflow-datasets->-r requirements.txt (line 3)) (0.10.2)\n",
            "Requirement already satisfied: wrapt in /usr/local/lib/python3.11/dist-packages (from tensorflow-datasets->-r requirements.txt (line 3)) (1.17.2)\n",
            "Requirement already satisfied: packaging in /usr/local/lib/python3.11/dist-packages (from tensorflow-addons->-r requirements.txt (line 4)) (24.2)\n",
            "Collecting typeguard<3.0.0,>=2.7 (from tensorflow-addons->-r requirements.txt (line 4))\n",
            "  Downloading typeguard-2.13.3-py3-none-any.whl.metadata (3.6 kB)\n",
            "Requirement already satisfied: ipython in /usr/local/lib/python3.11/dist-packages (from mediapy->-r requirements.txt (line 8)) (7.34.0)\n",
            "Requirement already satisfied: matplotlib in /usr/local/lib/python3.11/dist-packages (from mediapy->-r requirements.txt (line 8)) (3.10.0)\n",
            "Requirement already satisfied: Pillow in /usr/local/lib/python3.11/dist-packages (from mediapy->-r requirements.txt (line 8)) (11.1.0)\n",
            "Requirement already satisfied: scipy>=1.11.4 in /usr/local/lib/python3.11/dist-packages (from scikit-image->-r requirements.txt (line 9)) (1.14.1)\n",
            "Requirement already satisfied: networkx>=3.0 in /usr/local/lib/python3.11/dist-packages (from scikit-image->-r requirements.txt (line 9)) (3.4.2)\n",
            "Requirement already satisfied: imageio!=2.35.0,>=2.33 in /usr/local/lib/python3.11/dist-packages (from scikit-image->-r requirements.txt (line 9)) (2.37.0)\n",
            "Requirement already satisfied: tifffile>=2022.8.12 in /usr/local/lib/python3.11/dist-packages (from scikit-image->-r requirements.txt (line 9)) (2025.3.30)\n",
            "Requirement already satisfied: lazy-loader>=0.4 in /usr/local/lib/python3.11/dist-packages (from scikit-image->-r requirements.txt (line 9)) (0.4)\n",
            "Collecting crcmod<2.0,>=1.7 (from apache-beam->-r requirements.txt (line 10))\n",
            "  Downloading crcmod-1.7.tar.gz (89 kB)\n",
            "\u001b[2K     \u001b[90m━━━━━━━━━━━━━━━━━━━━━━━━━━━━━━━━━━━━━━━━\u001b[0m \u001b[32m89.7/89.7 kB\u001b[0m \u001b[31m4.0 MB/s\u001b[0m eta \u001b[36m0:00:00\u001b[0m\n",
            "\u001b[?25h  Preparing metadata (setup.py) ... \u001b[?25l\u001b[?25hdone\n",
            "Requirement already satisfied: orjson<4,>=3.9.7 in /usr/local/lib/python3.11/dist-packages (from apache-beam->-r requirements.txt (line 10)) (3.10.16)\n",
            "Collecting dill<0.3.2,>=0.3.1.1 (from apache-beam->-r requirements.txt (line 10))\n",
            "  Downloading dill-0.3.1.1.tar.gz (151 kB)\n",
            "\u001b[2K     \u001b[90m━━━━━━━━━━━━━━━━━━━━━━━━━━━━━━━━━━━━━━━\u001b[0m \u001b[32m152.0/152.0 kB\u001b[0m \u001b[31m7.9 MB/s\u001b[0m eta \u001b[36m0:00:00\u001b[0m\n",
            "\u001b[?25h  Preparing metadata (setup.py) ... \u001b[?25l\u001b[?25hdone\n",
            "Collecting cloudpickle~=2.2.1 (from apache-beam->-r requirements.txt (line 10))\n",
            "  Downloading cloudpickle-2.2.1-py3-none-any.whl.metadata (6.9 kB)\n",
            "Collecting fastavro<2,>=0.23.6 (from apache-beam->-r requirements.txt (line 10))\n",
            "  Downloading fastavro-1.10.0-cp311-cp311-manylinux_2_17_x86_64.manylinux2014_x86_64.whl.metadata (5.5 kB)\n",
            "Collecting fasteners<1.0,>=0.3 (from apache-beam->-r requirements.txt (line 10))\n",
            "  Downloading fasteners-0.19-py3-none-any.whl.metadata (4.9 kB)\n",
            "Collecting grpcio!=1.48.0,!=1.59.*,!=1.60.*,!=1.61.*,!=1.62.0,!=1.62.1,<1.66.0,<2,>=1.33.1 (from apache-beam->-r requirements.txt (line 10))\n",
            "  Downloading grpcio-1.65.5-cp311-cp311-manylinux_2_17_x86_64.manylinux2014_x86_64.whl.metadata (3.3 kB)\n",
            "Collecting hdfs<3.0.0,>=2.1.0 (from apache-beam->-r requirements.txt (line 10))\n",
            "  Downloading hdfs-2.7.3.tar.gz (43 kB)\n",
            "\u001b[2K     \u001b[90m━━━━━━━━━━━━━━━━━━━━━━━━━━━━━━━━━━━━━━━━\u001b[0m \u001b[32m43.5/43.5 kB\u001b[0m \u001b[31m4.6 MB/s\u001b[0m eta \u001b[36m0:00:00\u001b[0m\n",
            "\u001b[?25h  Preparing metadata (setup.py) ... \u001b[?25l\u001b[?25hdone\n",
            "Requirement already satisfied: httplib2<0.23.0,>=0.8 in /usr/local/lib/python3.11/dist-packages (from apache-beam->-r requirements.txt (line 10)) (0.22.0)\n",
            "Requirement already satisfied: jsonschema<5.0.0,>=4.0.0 in /usr/local/lib/python3.11/dist-packages (from apache-beam->-r requirements.txt (line 10)) (4.23.0)\n",
            "Collecting jsonpickle<4.0.0,>=3.0.0 (from apache-beam->-r requirements.txt (line 10))\n",
            "  Downloading jsonpickle-3.4.2-py3-none-any.whl.metadata (8.1 kB)\n",
            "Collecting objsize<0.8.0,>=0.6.1 (from apache-beam->-r requirements.txt (line 10))\n",
            "  Downloading objsize-0.7.1-py3-none-any.whl.metadata (12 kB)\n",
            "Collecting pymongo<5.0.0,>=3.8.0 (from apache-beam->-r requirements.txt (line 10))\n",
            "  Downloading pymongo-4.12.0-cp311-cp311-manylinux_2_17_x86_64.manylinux2014_x86_64.whl.metadata (22 kB)\n",
            "Requirement already satisfied: proto-plus<2,>=1.7.1 in /usr/local/lib/python3.11/dist-packages (from apache-beam->-r requirements.txt (line 10)) (1.26.1)\n",
            "Collecting pydot<2,>=1.2.0 (from apache-beam->-r requirements.txt (line 10))\n",
            "  Downloading pydot-1.4.2-py2.py3-none-any.whl.metadata (8.0 kB)\n",
            "Requirement already satisfied: python-dateutil<3,>=2.8.0 in /usr/local/lib/python3.11/dist-packages (from apache-beam->-r requirements.txt (line 10)) (2.8.2)\n",
            "Requirement already satisfied: pytz>=2018.3 in /usr/local/lib/python3.11/dist-packages (from apache-beam->-r requirements.txt (line 10)) (2025.2)\n",
            "Collecting redis<6,>=5.0.0 (from apache-beam->-r requirements.txt (line 10))\n",
            "  Downloading redis-5.2.1-py3-none-any.whl.metadata (9.1 kB)\n",
            "Requirement already satisfied: regex>=2020.6.8 in /usr/local/lib/python3.11/dist-packages (from apache-beam->-r requirements.txt (line 10)) (2024.11.6)\n",
            "Requirement already satisfied: sortedcontainers>=2.4.0 in /usr/local/lib/python3.11/dist-packages (from apache-beam->-r requirements.txt (line 10)) (2.4.0)\n",
            "Requirement already satisfied: typing-extensions>=3.7.0 in /usr/local/lib/python3.11/dist-packages (from apache-beam->-r requirements.txt (line 10)) (4.13.2)\n",
            "Requirement already satisfied: zstandard<1,>=0.18.0 in /usr/local/lib/python3.11/dist-packages (from apache-beam->-r requirements.txt (line 10)) (0.23.0)\n",
            "Requirement already satisfied: pyyaml<7.0.0,>=3.12 in /usr/local/lib/python3.11/dist-packages (from apache-beam->-r requirements.txt (line 10)) (6.0.2)\n",
            "Collecting pyarrow (from tensorflow-datasets->-r requirements.txt (line 3))\n",
            "  Downloading pyarrow-16.1.0-cp311-cp311-manylinux_2_28_x86_64.whl.metadata (3.0 kB)\n",
            "Collecting pyarrow-hotfix<1 (from apache-beam->-r requirements.txt (line 10))\n",
            "  Downloading pyarrow_hotfix-0.6-py3-none-any.whl.metadata (3.6 kB)\n",
            "Requirement already satisfied: google-api-core!=2.0.*,!=2.1.*,!=2.10.*,!=2.2.*,!=2.3.*,!=2.4.*,!=2.5.*,!=2.6.*,!=2.7.*,!=2.8.*,!=2.9.*,<3.0.0,>=1.34.0 in /usr/local/lib/python3.11/dist-packages (from google-api-core[grpc]!=2.0.*,!=2.1.*,!=2.10.*,!=2.2.*,!=2.3.*,!=2.4.*,!=2.5.*,!=2.6.*,!=2.7.*,!=2.8.*,!=2.9.*,<3.0.0,>=1.34.0->google-cloud-bigquery-storage->-r requirements.txt (line 11)) (2.24.2)\n",
            "Requirement already satisfied: google-auth<3.0.0,>=2.14.1 in /usr/local/lib/python3.11/dist-packages (from google-cloud-bigquery-storage->-r requirements.txt (line 11)) (2.38.0)\n",
            "Requirement already satisfied: beautifulsoup4 in /usr/local/lib/python3.11/dist-packages (from gdown->-r requirements.txt (line 13)) (4.13.4)\n",
            "Requirement already satisfied: filelock in /usr/local/lib/python3.11/dist-packages (from gdown->-r requirements.txt (line 13)) (3.18.0)\n",
            "Requirement already satisfied: attrs>=19.1.0 in /usr/local/lib/python3.11/dist-packages (from mediapipe->-r requirements.txt (line 16)) (25.3.0)\n",
            "Requirement already satisfied: flatbuffers>=2.0 in /usr/local/lib/python3.11/dist-packages (from mediapipe->-r requirements.txt (line 16)) (25.2.10)\n",
            "Requirement already satisfied: jax in /usr/local/lib/python3.11/dist-packages (from mediapipe->-r requirements.txt (line 16)) (0.5.2)\n",
            "Requirement already satisfied: jaxlib in /usr/local/lib/python3.11/dist-packages (from mediapipe->-r requirements.txt (line 16)) (0.5.1)\n",
            "Collecting numpy (from -r requirements.txt (line 18))\n",
            "  Downloading numpy-1.26.4-cp311-cp311-manylinux_2_17_x86_64.manylinux2014_x86_64.whl.metadata (61 kB)\n",
            "\u001b[2K     \u001b[90m━━━━━━━━━━━━━━━━━━━━━━━━━━━━━━━━━━━━━━━━\u001b[0m \u001b[32m61.0/61.0 kB\u001b[0m \u001b[31m6.1 MB/s\u001b[0m eta \u001b[36m0:00:00\u001b[0m\n",
            "\u001b[?25hRequirement already satisfied: opencv-contrib-python in /usr/local/lib/python3.11/dist-packages (from mediapipe->-r requirements.txt (line 16)) (4.11.0.86)\n",
            "Collecting protobuf>=3.20 (from tensorflow-datasets->-r requirements.txt (line 3))\n",
            "  Downloading protobuf-4.25.6-cp37-abi3-manylinux2014_x86_64.whl.metadata (541 bytes)\n",
            "Collecting sounddevice>=0.4.4 (from mediapipe->-r requirements.txt (line 16))\n",
            "  Downloading sounddevice-0.5.1-py3-none-any.whl.metadata (1.4 kB)\n",
            "Requirement already satisfied: sentencepiece in /usr/local/lib/python3.11/dist-packages (from mediapipe->-r requirements.txt (line 16)) (0.2.0)\n",
            "Requirement already satisfied: opencv-python-headless in /usr/local/lib/python3.11/dist-packages (from rembg->-r requirements.txt (line 17)) (4.11.0.86)\n",
            "Requirement already satisfied: pooch in /usr/local/lib/python3.11/dist-packages (from rembg->-r requirements.txt (line 17)) (1.8.2)\n",
            "Collecting pymatting (from rembg->-r requirements.txt (line 17))\n",
            "  Downloading PyMatting-1.1.13-py3-none-any.whl.metadata (7.5 kB)\n",
            "Collecting coloredlogs (from onnxruntime->-r requirements.txt (line 19))\n",
            "  Downloading coloredlogs-15.0.1-py2.py3-none-any.whl.metadata (12 kB)\n",
            "Requirement already satisfied: sympy in /usr/local/lib/python3.11/dist-packages (from onnxruntime->-r requirements.txt (line 19)) (1.13.1)\n",
            "Requirement already satisfied: einops in /usr/local/lib/python3.11/dist-packages (from etils[edc,enp,epath,epy,etree]>=1.9.1; python_version >= \"3.11\"->tensorflow-datasets->-r requirements.txt (line 3)) (0.8.1)\n",
            "Requirement already satisfied: fsspec in /usr/local/lib/python3.11/dist-packages (from etils[edc,enp,epath,epy,etree]>=1.9.1; python_version >= \"3.11\"->tensorflow-datasets->-r requirements.txt (line 3)) (2025.3.2)\n",
            "Requirement already satisfied: importlib_resources in /usr/local/lib/python3.11/dist-packages (from etils[edc,enp,epath,epy,etree]>=1.9.1; python_version >= \"3.11\"->tensorflow-datasets->-r requirements.txt (line 3)) (6.5.2)\n",
            "Requirement already satisfied: zipp in /usr/local/lib/python3.11/dist-packages (from etils[edc,enp,epath,epy,etree]>=1.9.1; python_version >= \"3.11\"->tensorflow-datasets->-r requirements.txt (line 3)) (3.21.0)\n",
            "Requirement already satisfied: googleapis-common-protos<2.0.0,>=1.56.2 in /usr/local/lib/python3.11/dist-packages (from google-api-core!=2.0.*,!=2.1.*,!=2.10.*,!=2.2.*,!=2.3.*,!=2.4.*,!=2.5.*,!=2.6.*,!=2.7.*,!=2.8.*,!=2.9.*,<3.0.0,>=1.34.0->google-api-core[grpc]!=2.0.*,!=2.1.*,!=2.10.*,!=2.2.*,!=2.3.*,!=2.4.*,!=2.5.*,!=2.6.*,!=2.7.*,!=2.8.*,!=2.9.*,<3.0.0,>=1.34.0->google-cloud-bigquery-storage->-r requirements.txt (line 11)) (1.70.0)\n",
            "Requirement already satisfied: grpcio-status<2.0.dev0,>=1.33.2 in /usr/local/lib/python3.11/dist-packages (from google-api-core[grpc]!=2.0.*,!=2.1.*,!=2.10.*,!=2.2.*,!=2.3.*,!=2.4.*,!=2.5.*,!=2.6.*,!=2.7.*,!=2.8.*,!=2.9.*,<3.0.0,>=1.34.0->google-cloud-bigquery-storage->-r requirements.txt (line 11)) (1.71.0)\n",
            "Requirement already satisfied: cachetools<6.0,>=2.0.0 in /usr/local/lib/python3.11/dist-packages (from google-auth<3.0.0,>=2.14.1->google-cloud-bigquery-storage->-r requirements.txt (line 11)) (5.5.2)\n",
            "Requirement already satisfied: pyasn1-modules>=0.2.1 in /usr/local/lib/python3.11/dist-packages (from google-auth<3.0.0,>=2.14.1->google-cloud-bigquery-storage->-r requirements.txt (line 11)) (0.4.2)\n",
            "Requirement already satisfied: rsa<5,>=3.1.4 in /usr/local/lib/python3.11/dist-packages (from google-auth<3.0.0,>=2.14.1->google-cloud-bigquery-storage->-r requirements.txt (line 11)) (4.9.1)\n",
            "Collecting docopt (from hdfs<3.0.0,>=2.1.0->apache-beam->-r requirements.txt (line 10))\n",
            "  Downloading docopt-0.6.2.tar.gz (25 kB)\n",
            "  Preparing metadata (setup.py) ... \u001b[?25l\u001b[?25hdone\n",
            "Requirement already satisfied: six>=1.9.0 in /usr/local/lib/python3.11/dist-packages (from hdfs<3.0.0,>=2.1.0->apache-beam->-r requirements.txt (line 10)) (1.17.0)\n",
            "Requirement already satisfied: pyparsing!=3.0.0,!=3.0.1,!=3.0.2,!=3.0.3,<4,>=2.4.2 in /usr/local/lib/python3.11/dist-packages (from httplib2<0.23.0,>=0.8->apache-beam->-r requirements.txt (line 10)) (3.2.3)\n",
            "Requirement already satisfied: jsonschema-specifications>=2023.03.6 in /usr/local/lib/python3.11/dist-packages (from jsonschema<5.0.0,>=4.0.0->apache-beam->-r requirements.txt (line 10)) (2024.10.1)\n",
            "Requirement already satisfied: referencing>=0.28.4 in /usr/local/lib/python3.11/dist-packages (from jsonschema<5.0.0,>=4.0.0->apache-beam->-r requirements.txt (line 10)) (0.36.2)\n",
            "Requirement already satisfied: rpds-py>=0.7.1 in /usr/local/lib/python3.11/dist-packages (from jsonschema<5.0.0,>=4.0.0->apache-beam->-r requirements.txt (line 10)) (0.24.0)\n",
            "Collecting dnspython<3.0.0,>=1.16.0 (from pymongo<5.0.0,>=3.8.0->apache-beam->-r requirements.txt (line 10))\n",
            "  Downloading dnspython-2.7.0-py3-none-any.whl.metadata (5.8 kB)\n",
            "Requirement already satisfied: charset-normalizer<4,>=2 in /usr/local/lib/python3.11/dist-packages (from requests>=2.19.0->tensorflow-datasets->-r requirements.txt (line 3)) (3.4.1)\n",
            "Requirement already satisfied: idna<4,>=2.5 in /usr/local/lib/python3.11/dist-packages (from requests>=2.19.0->tensorflow-datasets->-r requirements.txt (line 3)) (3.10)\n",
            "Requirement already satisfied: urllib3<3,>=1.21.1 in /usr/local/lib/python3.11/dist-packages (from requests>=2.19.0->tensorflow-datasets->-r requirements.txt (line 3)) (2.3.0)\n",
            "Requirement already satisfied: certifi>=2017.4.17 in /usr/local/lib/python3.11/dist-packages (from requests>=2.19.0->tensorflow-datasets->-r requirements.txt (line 3)) (2025.1.31)\n",
            "Requirement already satisfied: CFFI>=1.0 in /usr/local/lib/python3.11/dist-packages (from sounddevice>=0.4.4->mediapipe->-r requirements.txt (line 16)) (1.17.1)\n",
            "Requirement already satisfied: soupsieve>1.2 in /usr/local/lib/python3.11/dist-packages (from beautifulsoup4->gdown->-r requirements.txt (line 13)) (2.6)\n",
            "Collecting humanfriendly>=9.1 (from coloredlogs->onnxruntime->-r requirements.txt (line 19))\n",
            "  Downloading humanfriendly-10.0-py2.py3-none-any.whl.metadata (9.2 kB)\n",
            "Requirement already satisfied: setuptools>=18.5 in /usr/local/lib/python3.11/dist-packages (from ipython->mediapy->-r requirements.txt (line 8)) (75.2.0)\n",
            "Collecting jedi>=0.16 (from ipython->mediapy->-r requirements.txt (line 8))\n",
            "  Downloading jedi-0.19.2-py2.py3-none-any.whl.metadata (22 kB)\n",
            "Requirement already satisfied: decorator in /usr/local/lib/python3.11/dist-packages (from ipython->mediapy->-r requirements.txt (line 8)) (4.4.2)\n",
            "Requirement already satisfied: pickleshare in /usr/local/lib/python3.11/dist-packages (from ipython->mediapy->-r requirements.txt (line 8)) (0.7.5)\n",
            "Requirement already satisfied: traitlets>=4.2 in /usr/local/lib/python3.11/dist-packages (from ipython->mediapy->-r requirements.txt (line 8)) (5.7.1)\n",
            "Requirement already satisfied: prompt-toolkit!=3.0.0,!=3.0.1,<3.1.0,>=2.0.0 in /usr/local/lib/python3.11/dist-packages (from ipython->mediapy->-r requirements.txt (line 8)) (3.0.51)\n",
            "Requirement already satisfied: pygments in /usr/local/lib/python3.11/dist-packages (from ipython->mediapy->-r requirements.txt (line 8)) (2.18.0)\n",
            "Requirement already satisfied: backcall in /usr/local/lib/python3.11/dist-packages (from ipython->mediapy->-r requirements.txt (line 8)) (0.2.0)\n",
            "Requirement already satisfied: matplotlib-inline in /usr/local/lib/python3.11/dist-packages (from ipython->mediapy->-r requirements.txt (line 8)) (0.1.7)\n",
            "Requirement already satisfied: pexpect>4.3 in /usr/local/lib/python3.11/dist-packages (from ipython->mediapy->-r requirements.txt (line 8)) (4.9.0)\n",
            "Requirement already satisfied: ml_dtypes>=0.4.0 in /usr/local/lib/python3.11/dist-packages (from jax->mediapipe->-r requirements.txt (line 16)) (0.4.1)\n",
            "Requirement already satisfied: opt_einsum in /usr/local/lib/python3.11/dist-packages (from jax->mediapipe->-r requirements.txt (line 16)) (3.4.0)\n",
            "Requirement already satisfied: contourpy>=1.0.1 in /usr/local/lib/python3.11/dist-packages (from matplotlib->mediapy->-r requirements.txt (line 8)) (1.3.2)\n",
            "Requirement already satisfied: cycler>=0.10 in /usr/local/lib/python3.11/dist-packages (from matplotlib->mediapy->-r requirements.txt (line 8)) (0.12.1)\n",
            "Requirement already satisfied: fonttools>=4.22.0 in /usr/local/lib/python3.11/dist-packages (from matplotlib->mediapy->-r requirements.txt (line 8)) (4.57.0)\n",
            "Requirement already satisfied: kiwisolver>=1.3.1 in /usr/local/lib/python3.11/dist-packages (from matplotlib->mediapy->-r requirements.txt (line 8)) (1.4.8)\n",
            "Requirement already satisfied: platformdirs>=2.5.0 in /usr/local/lib/python3.11/dist-packages (from pooch->rembg->-r requirements.txt (line 17)) (4.3.7)\n",
            "Requirement already satisfied: numba!=0.49.0 in /usr/local/lib/python3.11/dist-packages (from pymatting->rembg->-r requirements.txt (line 17)) (0.60.0)\n",
            "Requirement already satisfied: PySocks!=1.5.7,>=1.5.6 in /usr/local/lib/python3.11/dist-packages (from requests[socks]->gdown->-r requirements.txt (line 13)) (1.7.1)\n",
            "Requirement already satisfied: docstring-parser<1.0,>=0.15 in /usr/local/lib/python3.11/dist-packages (from simple_parsing->tensorflow-datasets->-r requirements.txt (line 3)) (0.16)\n",
            "Requirement already satisfied: mpmath<1.4,>=1.1.0 in /usr/local/lib/python3.11/dist-packages (from sympy->onnxruntime->-r requirements.txt (line 19)) (1.3.0)\n",
            "Requirement already satisfied: pycparser in /usr/local/lib/python3.11/dist-packages (from CFFI>=1.0->sounddevice>=0.4.4->mediapipe->-r requirements.txt (line 16)) (2.22)\n",
            "INFO: pip is looking at multiple versions of grpcio-status to determine which version is compatible with other requirements. This could take a while.\n",
            "Collecting grpcio-status<2.0.dev0,>=1.33.2 (from google-api-core[grpc]!=2.0.*,!=2.1.*,!=2.10.*,!=2.2.*,!=2.3.*,!=2.4.*,!=2.5.*,!=2.6.*,!=2.7.*,!=2.8.*,!=2.9.*,<3.0.0,>=1.34.0->google-cloud-bigquery-storage->-r requirements.txt (line 11))\n",
            "  Downloading grpcio_status-1.70.0-py3-none-any.whl.metadata (1.1 kB)\n",
            "  Downloading grpcio_status-1.69.0-py3-none-any.whl.metadata (1.1 kB)\n",
            "  Downloading grpcio_status-1.68.1-py3-none-any.whl.metadata (1.1 kB)\n",
            "  Downloading grpcio_status-1.68.0-py3-none-any.whl.metadata (1.1 kB)\n",
            "  Downloading grpcio_status-1.67.1-py3-none-any.whl.metadata (1.1 kB)\n",
            "  Downloading grpcio_status-1.67.0-py3-none-any.whl.metadata (1.1 kB)\n",
            "  Downloading grpcio_status-1.66.2-py3-none-any.whl.metadata (1.1 kB)\n",
            "INFO: pip is still looking at multiple versions of grpcio-status to determine which version is compatible with other requirements. This could take a while.\n",
            "  Downloading grpcio_status-1.66.1-py3-none-any.whl.metadata (1.1 kB)\n",
            "  Downloading grpcio_status-1.66.0-py3-none-any.whl.metadata (1.1 kB)\n",
            "  Downloading grpcio_status-1.65.5-py3-none-any.whl.metadata (1.1 kB)\n",
            "  Downloading grpcio_status-1.65.4-py3-none-any.whl.metadata (1.1 kB)\n",
            "  Downloading grpcio_status-1.65.2-py3-none-any.whl.metadata (1.1 kB)\n",
            "INFO: This is taking longer than usual. You might need to provide the dependency resolver with stricter constraints to reduce runtime. See https://pip.pypa.io/warnings/backtracking for guidance. If you want to abort this run, press Ctrl + C.\n",
            "  Downloading grpcio_status-1.65.1-py3-none-any.whl.metadata (1.1 kB)\n",
            "  Downloading grpcio_status-1.64.3-py3-none-any.whl.metadata (1.1 kB)\n",
            "  Downloading grpcio_status-1.64.1-py3-none-any.whl.metadata (1.1 kB)\n",
            "  Downloading grpcio_status-1.64.0-py3-none-any.whl.metadata (1.1 kB)\n",
            "  Downloading grpcio_status-1.63.2-py3-none-any.whl.metadata (1.1 kB)\n",
            "  Downloading grpcio_status-1.63.0-py3-none-any.whl.metadata (1.1 kB)\n",
            "  Downloading grpcio_status-1.62.3-py3-none-any.whl.metadata (1.3 kB)\n",
            "Requirement already satisfied: parso<0.9.0,>=0.8.4 in /usr/local/lib/python3.11/dist-packages (from jedi>=0.16->ipython->mediapy->-r requirements.txt (line 8)) (0.8.4)\n",
            "Requirement already satisfied: llvmlite<0.44,>=0.43.0dev0 in /usr/local/lib/python3.11/dist-packages (from numba!=0.49.0->pymatting->rembg->-r requirements.txt (line 17)) (0.43.0)\n",
            "Requirement already satisfied: ptyprocess>=0.5 in /usr/local/lib/python3.11/dist-packages (from pexpect>4.3->ipython->mediapy->-r requirements.txt (line 8)) (0.7.0)\n",
            "Requirement already satisfied: wcwidth in /usr/local/lib/python3.11/dist-packages (from prompt-toolkit!=3.0.0,!=3.0.1,<3.1.0,>=2.0.0->ipython->mediapy->-r requirements.txt (line 8)) (0.2.13)\n",
            "Requirement already satisfied: pyasn1<0.7.0,>=0.6.1 in /usr/local/lib/python3.11/dist-packages (from pyasn1-modules>=0.2.1->google-auth<3.0.0,>=2.14.1->google-cloud-bigquery-storage->-r requirements.txt (line 11)) (0.6.1)\n",
            "Downloading tensorflow_addons-0.23.0-cp311-cp311-manylinux_2_17_x86_64.manylinux2014_x86_64.whl (611 kB)\n",
            "\u001b[2K   \u001b[90m━━━━━━━━━━━━━━━━━━━━━━━━━━━━━━━━━━━━━━━━\u001b[0m \u001b[32m611.8/611.8 kB\u001b[0m \u001b[31m22.2 MB/s\u001b[0m eta \u001b[36m0:00:00\u001b[0m\n",
            "\u001b[?25hDownloading parameterized-0.9.0-py2.py3-none-any.whl (20 kB)\n",
            "Downloading mediapy-1.2.3-py3-none-any.whl (26 kB)\n",
            "Downloading apache_beam-2.64.0-cp311-cp311-manylinux_2_17_x86_64.manylinux2014_x86_64.whl (17.5 MB)\n",
            "\u001b[2K   \u001b[90m━━━━━━━━━━━━━━━━━━━━━━━━━━━━━━━━━━━━━━━━\u001b[0m \u001b[32m17.5/17.5 MB\u001b[0m \u001b[31m93.6 MB/s\u001b[0m eta \u001b[36m0:00:00\u001b[0m\n",
            "\u001b[?25hDownloading mediapipe-0.10.21-cp311-cp311-manylinux_2_28_x86_64.whl (35.6 MB)\n",
            "\u001b[2K   \u001b[90m━━━━━━━━━━━━━━━━━━━━━━━━━━━━━━━━━━━━━━━━\u001b[0m \u001b[32m35.6/35.6 MB\u001b[0m \u001b[31m34.1 MB/s\u001b[0m eta \u001b[36m0:00:00\u001b[0m\n",
            "\u001b[?25hDownloading rembg-2.0.65-py3-none-any.whl (41 kB)\n",
            "\u001b[2K   \u001b[90m━━━━━━━━━━━━━━━━━━━━━━━━━━━━━━━━━━━━━━━━\u001b[0m \u001b[32m41.2/41.2 kB\u001b[0m \u001b[31m4.3 MB/s\u001b[0m eta \u001b[36m0:00:00\u001b[0m\n",
            "\u001b[?25hDownloading numpy-1.26.4-cp311-cp311-manylinux_2_17_x86_64.manylinux2014_x86_64.whl (18.3 MB)\n",
            "\u001b[2K   \u001b[90m━━━━━━━━━━━━━━━━━━━━━━━━━━━━━━━━━━━━━━━━\u001b[0m \u001b[32m18.3/18.3 MB\u001b[0m \u001b[31m89.8 MB/s\u001b[0m eta \u001b[36m0:00:00\u001b[0m\n",
            "\u001b[?25hDownloading onnxruntime-1.21.1-cp311-cp311-manylinux_2_27_x86_64.manylinux_2_28_x86_64.whl (16.0 MB)\n",
            "\u001b[2K   \u001b[90m━━━━━━━━━━━━━━━━━━━━━━━━━━━━━━━━━━━━━━━━\u001b[0m \u001b[32m16.0/16.0 MB\u001b[0m \u001b[31m94.3 MB/s\u001b[0m eta \u001b[36m0:00:00\u001b[0m\n",
            "\u001b[?25hDownloading cloudpickle-2.2.1-py3-none-any.whl (25 kB)\n",
            "Downloading fastavro-1.10.0-cp311-cp311-manylinux_2_17_x86_64.manylinux2014_x86_64.whl (3.3 MB)\n",
            "\u001b[2K   \u001b[90m━━━━━━━━━━━━━━━━━━━━━━━━━━━━━━━━━━━━━━━━\u001b[0m \u001b[32m3.3/3.3 MB\u001b[0m \u001b[31m104.7 MB/s\u001b[0m eta \u001b[36m0:00:00\u001b[0m\n",
            "\u001b[?25hDownloading fasteners-0.19-py3-none-any.whl (18 kB)\n",
            "Downloading grpcio-1.65.5-cp311-cp311-manylinux_2_17_x86_64.manylinux2014_x86_64.whl (5.7 MB)\n",
            "\u001b[2K   \u001b[90m━━━━━━━━━━━━━━━━━━━━━━━━━━━━━━━━━━━━━━━━\u001b[0m \u001b[32m5.7/5.7 MB\u001b[0m \u001b[31m126.0 MB/s\u001b[0m eta \u001b[36m0:00:00\u001b[0m\n",
            "\u001b[?25hDownloading jsonpickle-3.4.2-py3-none-any.whl (46 kB)\n",
            "\u001b[2K   \u001b[90m━━━━━━━━━━━━━━━━━━━━━━━━━━━━━━━━━━━━━━━━\u001b[0m \u001b[32m46.3/46.3 kB\u001b[0m \u001b[31m5.1 MB/s\u001b[0m eta \u001b[36m0:00:00\u001b[0m\n",
            "\u001b[?25hDownloading objsize-0.7.1-py3-none-any.whl (11 kB)\n",
            "Downloading protobuf-4.25.6-cp37-abi3-manylinux2014_x86_64.whl (294 kB)\n",
            "\u001b[2K   \u001b[90m━━━━━━━━━━━━━━━━━━━━━━━━━━━━━━━━━━━━━━━━\u001b[0m \u001b[32m294.6/294.6 kB\u001b[0m \u001b[31m31.3 MB/s\u001b[0m eta \u001b[36m0:00:00\u001b[0m\n",
            "\u001b[?25hDownloading pyarrow-16.1.0-cp311-cp311-manylinux_2_28_x86_64.whl (40.8 MB)\n",
            "\u001b[2K   \u001b[90m━━━━━━━━━━━━━━━━━━━━━━━━━━━━━━━━━━━━━━━━\u001b[0m \u001b[32m40.8/40.8 MB\u001b[0m \u001b[31m13.7 MB/s\u001b[0m eta \u001b[36m0:00:00\u001b[0m\n",
            "\u001b[?25hDownloading pyarrow_hotfix-0.6-py3-none-any.whl (7.9 kB)\n",
            "Downloading pydot-1.4.2-py2.py3-none-any.whl (21 kB)\n",
            "Downloading pymongo-4.12.0-cp311-cp311-manylinux_2_17_x86_64.manylinux2014_x86_64.whl (1.4 MB)\n",
            "\u001b[2K   \u001b[90m━━━━━━━━━━━━━━━━━━━━━━━━━━━━━━━━━━━━━━━━\u001b[0m \u001b[32m1.4/1.4 MB\u001b[0m \u001b[31m81.5 MB/s\u001b[0m eta \u001b[36m0:00:00\u001b[0m\n",
            "\u001b[?25hDownloading redis-5.2.1-py3-none-any.whl (261 kB)\n",
            "\u001b[2K   \u001b[90m━━━━━━━━━━━━━━━━━━━━━━━━━━━━━━━━━━━━━━━━\u001b[0m \u001b[32m261.5/261.5 kB\u001b[0m \u001b[31m29.3 MB/s\u001b[0m eta \u001b[36m0:00:00\u001b[0m\n",
            "\u001b[?25hDownloading sounddevice-0.5.1-py3-none-any.whl (32 kB)\n",
            "Downloading typeguard-2.13.3-py3-none-any.whl (17 kB)\n",
            "Downloading coloredlogs-15.0.1-py2.py3-none-any.whl (46 kB)\n",
            "\u001b[2K   \u001b[90m━━━━━━━━━━━━━━━━━━━━━━━━━━━━━━━━━━━━━━━━\u001b[0m \u001b[32m46.0/46.0 kB\u001b[0m \u001b[31m5.1 MB/s\u001b[0m eta \u001b[36m0:00:00\u001b[0m\n",
            "\u001b[?25hDownloading PyMatting-1.1.13-py3-none-any.whl (54 kB)\n",
            "\u001b[2K   \u001b[90m━━━━━━━━━━━━━━━━━━━━━━━━━━━━━━━━━━━━━━━━\u001b[0m \u001b[32m54.5/54.5 kB\u001b[0m \u001b[31m6.3 MB/s\u001b[0m eta \u001b[36m0:00:00\u001b[0m\n",
            "\u001b[?25hDownloading dnspython-2.7.0-py3-none-any.whl (313 kB)\n",
            "\u001b[2K   \u001b[90m━━━━━━━━━━━━━━━━━━━━━━━━━━━━━━━━━━━━━━━━\u001b[0m \u001b[32m313.6/313.6 kB\u001b[0m \u001b[31m33.4 MB/s\u001b[0m eta \u001b[36m0:00:00\u001b[0m\n",
            "\u001b[?25hDownloading grpcio_status-1.62.3-py3-none-any.whl (14 kB)\n",
            "Downloading humanfriendly-10.0-py2.py3-none-any.whl (86 kB)\n",
            "\u001b[2K   \u001b[90m━━━━━━━━━━━━━━━━━━━━━━━━━━━━━━━━━━━━━━━━\u001b[0m \u001b[32m86.8/86.8 kB\u001b[0m \u001b[31m10.7 MB/s\u001b[0m eta \u001b[36m0:00:00\u001b[0m\n",
            "\u001b[?25hDownloading jedi-0.19.2-py2.py3-none-any.whl (1.6 MB)\n",
            "\u001b[2K   \u001b[90m━━━━━━━━━━━━━━━━━━━━━━━━━━━━━━━━━━━━━━━━\u001b[0m \u001b[32m1.6/1.6 MB\u001b[0m \u001b[31m87.4 MB/s\u001b[0m eta \u001b[36m0:00:00\u001b[0m\n",
            "\u001b[?25hBuilding wheels for collected packages: crcmod, dill, hdfs, docopt\n",
            "  Building wheel for crcmod (setup.py) ... \u001b[?25l\u001b[?25hdone\n",
            "  Created wheel for crcmod: filename=crcmod-1.7-cp311-cp311-linux_x86_64.whl size=31659 sha256=61c2e136516abe25bde8f89f494d2e6368e70b4d4a41f647ac032c92d7d629e1\n",
            "  Stored in directory: /root/.cache/pip/wheels/23/94/7a/8cb7d14597e6395ce969933f01aed9ea8fa5f5b4d4c8a61e99\n",
            "  Building wheel for dill (setup.py) ... \u001b[?25l\u001b[?25hdone\n",
            "  Created wheel for dill: filename=dill-0.3.1.1-py3-none-any.whl size=78544 sha256=47ef537c2fbbbb5b1474001648e2053be3f2f972ccb2dd0a7c36b4fbd68b3079\n",
            "  Stored in directory: /root/.cache/pip/wheels/01/60/80/1622338bcecce31a5664ef01c203cc5a7b09f59588d9c07376\n",
            "  Building wheel for hdfs (setup.py) ... \u001b[?25l\u001b[?25hdone\n",
            "  Created wheel for hdfs: filename=hdfs-2.7.3-py3-none-any.whl size=34324 sha256=3c461a7e8f5305877ebd44017fba137fc57b80b6c83f8c4d4404c8d426100251\n",
            "  Stored in directory: /root/.cache/pip/wheels/b9/1d/dc/eb0833be25464c359903d356c4204721c6a672c26ff164cdc3\n",
            "  Building wheel for docopt (setup.py) ... \u001b[?25l\u001b[?25hdone\n",
            "  Created wheel for docopt: filename=docopt-0.6.2-py2.py3-none-any.whl size=13706 sha256=f9933727647fa136b408da4e4599c1d1cd9a9746c3c4ed93e79b9964c10555b3\n",
            "  Stored in directory: /root/.cache/pip/wheels/1a/b0/8c/4b75c4116c31f83c8f9f047231251e13cc74481cca4a78a9ce\n",
            "Successfully built crcmod dill hdfs docopt\n",
            "Installing collected packages: docopt, crcmod, typeguard, redis, pydot, pyarrow-hotfix, protobuf, parameterized, objsize, numpy, jsonpickle, jedi, humanfriendly, grpcio, fasteners, fastavro, dnspython, dill, cloudpickle, tensorflow-addons, sounddevice, pymongo, pyarrow, hdfs, coloredlogs, pymatting, onnxruntime, grpcio-status, rembg, mediapy, apache-beam, mediapipe\n",
            "  Attempting uninstall: typeguard\n",
            "    Found existing installation: typeguard 4.4.2\n",
            "    Uninstalling typeguard-4.4.2:\n",
            "      Successfully uninstalled typeguard-4.4.2\n",
            "  Attempting uninstall: pydot\n",
            "    Found existing installation: pydot 3.0.4\n",
            "    Uninstalling pydot-3.0.4:\n",
            "      Successfully uninstalled pydot-3.0.4\n",
            "  Attempting uninstall: protobuf\n",
            "    Found existing installation: protobuf 5.29.4\n",
            "    Uninstalling protobuf-5.29.4:\n",
            "      Successfully uninstalled protobuf-5.29.4\n",
            "  Attempting uninstall: numpy\n",
            "    Found existing installation: numpy 2.0.2\n",
            "    Uninstalling numpy-2.0.2:\n",
            "      Successfully uninstalled numpy-2.0.2\n",
            "  Attempting uninstall: jsonpickle\n",
            "    Found existing installation: jsonpickle 4.0.5\n",
            "    Uninstalling jsonpickle-4.0.5:\n",
            "      Successfully uninstalled jsonpickle-4.0.5\n",
            "  Attempting uninstall: grpcio\n",
            "    Found existing installation: grpcio 1.71.0\n",
            "    Uninstalling grpcio-1.71.0:\n",
            "      Successfully uninstalled grpcio-1.71.0\n",
            "  Attempting uninstall: cloudpickle\n",
            "    Found existing installation: cloudpickle 3.1.1\n",
            "    Uninstalling cloudpickle-3.1.1:\n",
            "      Successfully uninstalled cloudpickle-3.1.1\n",
            "  Attempting uninstall: pyarrow\n",
            "    Found existing installation: pyarrow 18.1.0\n",
            "    Uninstalling pyarrow-18.1.0:\n",
            "      Successfully uninstalled pyarrow-18.1.0\n",
            "  Attempting uninstall: grpcio-status\n",
            "    Found existing installation: grpcio-status 1.71.0\n",
            "    Uninstalling grpcio-status-1.71.0:\n",
            "      Successfully uninstalled grpcio-status-1.71.0\n",
            "\u001b[31mERROR: pip's dependency resolver does not currently take into account all the packages that are installed. This behaviour is the source of the following dependency conflicts.\n",
            "dask 2024.12.1 requires cloudpickle>=3.0.0, but you have cloudpickle 2.2.1 which is incompatible.\n",
            "distributed 2024.12.1 requires cloudpickle>=3.0.0, but you have cloudpickle 2.2.1 which is incompatible.\n",
            "inflect 7.5.0 requires typeguard>=4.0.1, but you have typeguard 2.13.3 which is incompatible.\n",
            "ydf 0.11.0 requires protobuf<6.0.0,>=5.29.1, but you have protobuf 4.25.6 which is incompatible.\n",
            "thinc 8.3.6 requires numpy<3.0.0,>=2.0.0, but you have numpy 1.26.4 which is incompatible.\u001b[0m\u001b[31m\n",
            "\u001b[0mSuccessfully installed apache-beam-2.64.0 cloudpickle-2.2.1 coloredlogs-15.0.1 crcmod-1.7 dill-0.3.1.1 dnspython-2.7.0 docopt-0.6.2 fastavro-1.10.0 fasteners-0.19 grpcio-1.65.5 grpcio-status-1.62.3 hdfs-2.7.3 humanfriendly-10.0 jedi-0.19.2 jsonpickle-3.4.2 mediapipe-0.10.21 mediapy-1.2.3 numpy-1.26.4 objsize-0.7.1 onnxruntime-1.21.1 parameterized-0.9.0 protobuf-4.25.6 pyarrow-16.1.0 pyarrow-hotfix-0.6 pydot-1.4.2 pymatting-1.1.13 pymongo-4.12.0 redis-5.2.1 rembg-2.0.65 sounddevice-0.5.1 tensorflow-addons-0.23.0 typeguard-2.13.3\n"
          ]
        }
      ],
      "source": [
        "!pip install -r requirements.txt"
      ]
    },
    {
      "cell_type": "code",
      "execution_count": 8,
      "metadata": {
        "colab": {
          "base_uri": "https://localhost:8080/"
        },
        "id": "QTG7bqFnNrqf",
        "outputId": "6c4be604-e265-4dbc-d568-046df8452d91"
      },
      "outputs": [
        {
          "name": "stdout",
          "output_type": "stream",
          "text": [
            "Found existing installation: numpy 1.26.4\n",
            "Uninstalling numpy-1.26.4:\n",
            "  Successfully uninstalled numpy-1.26.4\n"
          ]
        }
      ],
      "source": [
        "!pip uninstall -y numpy"
      ]
    },
    {
      "cell_type": "code",
      "execution_count": 9,
      "metadata": {
        "colab": {
          "base_uri": "https://localhost:8080/"
        },
        "id": "efNJTjxGiwZX",
        "outputId": "2377e8a6-9827-4331-f758-7bc6084abbcf"
      },
      "outputs": [
        {
          "name": "stdout",
          "output_type": "stream",
          "text": [
            "Collecting numpy==2.0.1\n",
            "  Downloading numpy-2.0.1-cp311-cp311-manylinux_2_17_x86_64.manylinux2014_x86_64.whl.metadata (60 kB)\n",
            "\u001b[?25l     \u001b[90m━━━━━━━━━━━━━━━━━━━━━━━━━━━━━━━━━━━━━━━━\u001b[0m \u001b[32m0.0/60.9 kB\u001b[0m \u001b[31m?\u001b[0m eta \u001b[36m-:--:--\u001b[0m\r\u001b[2K     \u001b[90m━━━━━━━━━━━━━━━━━━━━━━━━━━━━━━━━━━━━━━━━\u001b[0m \u001b[32m60.9/60.9 kB\u001b[0m \u001b[31m2.9 MB/s\u001b[0m eta \u001b[36m0:00:00\u001b[0m\n",
            "\u001b[?25hDownloading numpy-2.0.1-cp311-cp311-manylinux_2_17_x86_64.manylinux2014_x86_64.whl (19.5 MB)\n",
            "\u001b[2K   \u001b[90m━━━━━━━━━━━━━━━━━━━━━━━━━━━━━━━━━━━━━━━━\u001b[0m \u001b[32m19.5/19.5 MB\u001b[0m \u001b[31m67.5 MB/s\u001b[0m eta \u001b[36m0:00:00\u001b[0m\n",
            "\u001b[?25hInstalling collected packages: numpy\n",
            "\u001b[31mERROR: pip's dependency resolver does not currently take into account all the packages that are installed. This behaviour is the source of the following dependency conflicts.\n",
            "mediapipe 0.10.21 requires numpy<2, but you have numpy 2.0.1 which is incompatible.\n",
            "ydf 0.11.0 requires protobuf<6.0.0,>=5.29.1, but you have protobuf 4.25.6 which is incompatible.\u001b[0m\u001b[31m\n",
            "\u001b[0mSuccessfully installed numpy-2.0.1\n"
          ]
        }
      ],
      "source": [
        "!pip install numpy==2.0.1"
      ]
    },
    {
      "cell_type": "code",
      "execution_count": 10,
      "metadata": {
        "id": "N0qHWDyyUr6r"
      },
      "outputs": [],
      "source": [
        "import tensorflow as tf"
      ]
    },
    {
      "cell_type": "code",
      "execution_count": 11,
      "metadata": {
        "id": "W6NkdkOojC0G"
      },
      "outputs": [],
      "source": [
        "assert len(tf.config.list_physical_devices('GPU')) > 0, \"No GPU available\""
      ]
    },
    {
      "cell_type": "markdown",
      "metadata": {
        "id": "KC8tgljH7K3X"
      },
      "source": [
        "## Settings"
      ]
    },
    {
      "cell_type": "code",
      "execution_count": 33,
      "metadata": {
        "id": "vdgoCPVo3k2k"
      },
      "outputs": [],
      "source": [
        "INPUT_DIR = 'sample_data/shahrukh-khan'\n",
        "OUTPUT_DIR = 'output_frames/shahrukh-khan'\n",
        "REFERENCE_IMG_NAME = '1998_kuch_kuch_hota_hai.jpg'  # reference image for face tilt and lighting\n",
        "\n",
        "preprocess_faces = True\n",
        "FIX_LIGHTING = False  # to make images have a similar color\n",
        "equal_intervals = True  # whether to use equal no of frames between images or decide based on date\n",
        "\n",
        "# applicable when equal_intervals is False\n",
        "# desired gap between frames in seconds (difference between dates of frames)\n",
        "# eg. set 3600 to generate 1 frame for every 1 hr gap in input images\n",
        "min_frame_duration = 3600 * 24"
      ]
    },
    {
      "cell_type": "code",
      "execution_count": null,
      "metadata": {
        "id": "nwB5mYvR3k2k"
      },
      "outputs": [],
      "source": [
        "\n",
        "MAX_DIM = 1080\n",
        "\n",
        "VIDEO_FPS = 24\n",
        "\n",
        "# set no of interpolated frames between images\n",
        "# higher for better quality. try 15.\n",
        "MAX_INTERPOLATED_FRAMES = 3  # 1 less than powers of 2\n",
        "MODEL_PATH = \"pretrained_models/film_net/Style/saved_model\"\n",
        "VALID_IMG_FORMATS = ('.png', '.jpg', '.jpeg', '.bmp')"
      ]
    },
    {
      "cell_type": "code",
      "execution_count": 25,
      "metadata": {
        "id": "uVxhyExg3k2k"
      },
      "outputs": [],
      "source": [
        "if MAX_INTERPOLATED_FRAMES + 1 not in (2, 4, 8, 16, 32, 64, 128):\n",
        "    raise ValueError(\"MAX_INTERPOLATED_FRAMES + 1 must be a power of 2\")"
      ]
    },
    {
      "cell_type": "code",
      "execution_count": 26,
      "metadata": {
        "id": "6iPjfJwa3k2j"
      },
      "outputs": [],
      "source": [
        "import os\n",
        "from pathlib import Path\n",
        "import numpy as np\n",
        "import tempfile\n",
        "import tensorflow as tf\n",
        "import mediapy\n",
        "import cv2\n",
        "from PIL import Image, ExifTags\n",
        "import re\n",
        "\n",
        "from natsort import natsorted\n",
        "import shutil\n",
        "from tqdm import tqdm\n",
        "from datetime import datetime\n",
        "import subprocess\n",
        "import math\n",
        "import mediapy as media\n",
        "import sys\n",
        "from typing import Generator, Iterable, List, Optional\n",
        "\n",
        "\n",
        "from eval import interpolator, util\n",
        "import fix_images"
      ]
    },
    {
      "cell_type": "markdown",
      "metadata": {
        "id": "snJNybSe3k2j"
      },
      "source": [
        "## Config"
      ]
    },
    {
      "cell_type": "code",
      "execution_count": 27,
      "metadata": {
        "colab": {
          "base_uri": "https://localhost:8080/"
        },
        "collapsed": true,
        "id": "sDVZ3dQR3k2k",
        "outputId": "c27fcf06-9815-499e-8f45-2394064b1fd5"
      },
      "outputs": [
        {
          "name": "stdout",
          "output_type": "stream",
          "text": [
            "Model already downloaded\n"
          ]
        }
      ],
      "source": [
        "# Download the pretrained model\n",
        "import gdown\n",
        "os.makedirs('pretrained_models/film_net/Style/saved_model', exist_ok=True)\n",
        "\n",
        "if os.path.exists('pretrained_models/film_net/Style/saved_model/saved_model.pb'):\n",
        "    print('Model already downloaded')\n",
        "else:\n",
        "  folder_url = 'https://drive.google.com/drive/folders/1i9Go1YI2qiFWeT5QtywNFmYAA74bhXWj'\n",
        "  gdown.download_folder(folder_url, output='pretrained_models/film_net/Style/saved_model', quiet=False)"
      ]
    },
    {
      "cell_type": "markdown",
      "metadata": {
        "id": "wgpvI8G83k2k"
      },
      "source": [
        "## Plan"
      ]
    },
    {
      "cell_type": "code",
      "execution_count": 28,
      "metadata": {
        "id": "dVhGZ5ct3k2k"
      },
      "outputs": [],
      "source": [
        "# 1. Preprocess images\n",
        "# 2. for succesive pairs of images:\n",
        "# 3.     generate interpolated frames\n",
        "# 4.     add interpolated frames to the output directory\n",
        "# 5. generate video from output directory"
      ]
    },
    {
      "cell_type": "markdown",
      "metadata": {
        "id": "3WIJ6zNr3k2k"
      },
      "source": [
        "## Utility Functions"
      ]
    },
    {
      "cell_type": "code",
      "execution_count": 29,
      "metadata": {
        "id": "peMfh7q33k2k"
      },
      "outputs": [],
      "source": [
        "\n",
        "# create empty output directory\n",
        "def create_empty_dir(dir_name):\n",
        "  if os.path.exists(dir_name):\n",
        "    shutil.rmtree(dir_name)\n",
        "  os.makedirs(dir_name)\n",
        "\n",
        "\n",
        "def resize_and_save(input_path, output_path, size):\n",
        "  if input_path.lower().endswith(VALID_IMG_FORMATS):\n",
        "      img = Image.open(input_path)\n",
        "      img = img.resize(size, Image.Resampling.LANCZOS)\n",
        "      img.save(output_path)\n",
        "  else:\n",
        "      raise ValueError(f'Unsupported file format: {input_path}')\n",
        "\n",
        "\n",
        "def get_sorted_images(input_dir: str) -> Path:\n",
        "    input_dir = Path(input_dir)\n",
        "    image_files = [\n",
        "        f.as_posix() for f in input_dir.iterdir()\n",
        "        if f.is_file() and f.suffix.lower() in VALID_IMG_FORMATS\n",
        "    ]\n",
        "\n",
        "    # Sort files naturally\n",
        "    image_files = natsorted(image_files)\n",
        "\n",
        "    # image_files = natsorted([f for f in os.listdir(input_dir) if f.lower().endswith(VALID_IMG_FORMATS)])\n",
        "    if not image_files:\n",
        "        raise Exception(\"No images found in the directory.\", input_dir)\n",
        "    return image_files\n",
        "\n",
        "\n",
        "# prepare input data\n",
        "def prepare_images(input_dir, processed_input_dir, preprocess_faces, size, reference_img_name=None, fix_lighting=False):\n",
        "    files = get_sorted_images(input_dir)\n",
        "\n",
        "    # find the reference image\n",
        "    if reference_img_name == '':\n",
        "        reference_path = files[0]\n",
        "    else:\n",
        "        reference_path = None\n",
        "        for f in files:\n",
        "            image_path = Path(f)\n",
        "            if image_path.name == reference_img_name:\n",
        "                reference_path = image_path.with_name(reference_img_name)\n",
        "                break\n",
        "            elif str(image_path) == reference_img_name:\n",
        "                reference_path = image_path\n",
        "                break\n",
        "            else:\n",
        "                continue\n",
        "        if reference_path is None:\n",
        "            raise Exception('Reference image not found')\n",
        "\n",
        "    print('reference_image', str(reference_path))\n",
        "\n",
        "    for f in tqdm(files, desc='Preparing images'):\n",
        "        output_file = (Path(processed_input_dir) / Path(f).name).as_posix()\n",
        "        if preprocess_faces:\n",
        "            fix_images.process_face_image(\n",
        "                f,\n",
        "                output_file,\n",
        "                reference_path=str(reference_path),\n",
        "                background_color=(255, 255, 255),  # White background\n",
        "                save_bbox_preview=False,\n",
        "                fix_lighting=fix_lighting\n",
        "                )\n",
        "        else:\n",
        "            resize_and_save(f, output_file, size)\n",
        "\n",
        "\n",
        "def get_new_size(image_path: str, max_dim: int = MAX_DIM) -> np.ndarray:\n",
        "    \"\"\"Resize the image so that the maximum dimension is `max_dim`.\"\"\"\n",
        "    image = cv2.imread(image_path)\n",
        "    h, w = image.shape[:2]\n",
        "    if h > w:\n",
        "        new_h = max_dim\n",
        "        new_w = int(w * new_h / h)\n",
        "    else:\n",
        "        new_w = max_dim\n",
        "        new_h = int(h * new_w / w)\n",
        "    return (new_w, new_h)\n",
        "\n",
        "\n",
        "def string_to_timestamp(datetime_str):\n",
        "    # Try yyyymmdd_hhmmss pattern\n",
        "    pattern1 = r'(\\d{8}_\\d{6})'\n",
        "    match = re.search(pattern1, datetime_str)\n",
        "    if match:\n",
        "        try:\n",
        "            return datetime.strptime(match.group(1), \"%Y%m%d_%H%M%S\")\n",
        "        except ValueError:\n",
        "            pass\n",
        "\n",
        "    # Try yyyymmdd pattern\n",
        "    pattern2 = r'(\\d{8})'\n",
        "    match = re.search(pattern2, datetime_str)\n",
        "    if match:\n",
        "        try:\n",
        "            return datetime.strptime(match.group(1), \"%Y%m%d\")\n",
        "        except ValueError:\n",
        "            pass\n",
        "\n",
        "    raise ValueError(\"No valid date found in string. Expected format: YYYYMMDD or YYYYMMDD_HHMMSS\")\n",
        "\n",
        "\n",
        "def timestamp_to_string(timestamp):\n",
        "    # Convert the timestamp number to a datetime object\n",
        "    dt = datetime.fromtimestamp(timestamp)\n",
        "    # Format the datetime object to the desired string format\n",
        "    formatted_string = dt.strftime(\"%Y%m%d_%H%M%S\")\n",
        "    return formatted_string\n",
        "\n",
        "\n",
        "def choose_evenly_spaced_timestamps(timestamps, k):\n",
        "    # Ensure we have at least k timestamps\n",
        "    if k > len(timestamps):\n",
        "        raise ValueError(\"k cannot be greater than the number of timestamps\")\n",
        "\n",
        "    # Calculate the interval between timestamps\n",
        "    n = len(timestamps)\n",
        "    interval = (n - 1) / (k - 1)\n",
        "\n",
        "    # Select the timestamps\n",
        "    chosen_timestamps = []\n",
        "    for i in range(k):\n",
        "        index = round(i * interval)\n",
        "        chosen_timestamps.append(timestamps[index])\n",
        "\n",
        "    return chosen_timestamps\n",
        "\n",
        "\n",
        "def save_video(frames, out_path):\n",
        "    ffmpeg_path = util.get_ffmpeg_path()\n",
        "    mediapy.set_ffmpeg(ffmpeg_path)\n",
        "    mediapy.write_video(out_path, frames, fps=30)\n",
        "\n",
        "\n",
        "def save_frames(frames, output_dir, format='jpg'):\n",
        "    \"\"\"\n",
        "    Save interpolated frames to the specified output directory and return the output paths.\n",
        "    Args:\n",
        "        frames: List of image arrays\n",
        "        output_dir: Directory to save frames\n",
        "        format: Image format to save (jpg/png)\n",
        "    Returns:\n",
        "        list: List of file paths where the frames are saved.\n",
        "    \"\"\"\n",
        "    output_paths = []\n",
        "    for idx, frame in enumerate(frames):\n",
        "        output_path = os.path.join(output_dir, f'frame_{idx:06d}.{format}')\n",
        "        util.write_image(output_path, frame)\n",
        "        output_paths.append(output_path)\n",
        "    return output_paths\n",
        "\n",
        "\n",
        "\n",
        "def write_video_from_images(image_dir, output_path, fps):\n",
        "    image_files = get_sorted_images(image_dir)\n",
        "\n",
        "    # Read the first image to get the dimensions\n",
        "    first_image_path = image_files[0]\n",
        "    first_frame = cv2.imread(first_image_path)\n",
        "    height, width, layers = first_frame.shape\n",
        "\n",
        "    # Initialize the video writer\n",
        "    fourcc = cv2.VideoWriter_fourcc(*'mp4v')  # Specify the codec\n",
        "    video_writer = cv2.VideoWriter(output_path, fourcc, fps, (width, height))\n",
        "\n",
        "    for image_file in image_files:\n",
        "        frame = cv2.imread(image_file)\n",
        "        if frame is None:\n",
        "            print(f\"Skipping {image_file}, cannot read image.\")\n",
        "            continue\n",
        "        video_writer.write(frame)\n",
        "\n",
        "    video_writer.release()\n",
        "    print(f\"Video saved to: {output_path}\")"
      ]
    },
    {
      "cell_type": "code",
      "execution_count": 30,
      "metadata": {
        "id": "3xUYjgHd3k2k"
      },
      "outputs": [],
      "source": [
        "\n",
        "def interpolate_frames(image_1, image_2, times_to_interpolate, interpolator):\n",
        "  input_frames = [str(image_1), str(image_2)]\n",
        "\n",
        "  frames = list(\n",
        "      util.interpolate_recursively_from_files(\n",
        "          input_frames, times_to_interpolate, interpolator))\n",
        "  return frames"
      ]
    },
    {
      "cell_type": "markdown",
      "metadata": {
        "id": "qNI760nM3k2l"
      },
      "source": [
        "## Main"
      ]
    },
    {
      "cell_type": "code",
      "execution_count": 31,
      "metadata": {
        "colab": {
          "base_uri": "https://localhost:8080/"
        },
        "id": "gzC7E2oK3k2l",
        "outputId": "9094d8ef-1d1e-4972-839e-1c0aefd06075"
      },
      "outputs": [
        {
          "name": "stdout",
          "output_type": "stream",
          "text": [
            "1992_deewana.jpg\n",
            "1993_baazigar.jpg\n",
            "1995_ddlj.jpg\n",
            "1998_kuch_kuch_hota_hai.jpg\n",
            "2003_kal_ho_na_ho.jpeg\n"
          ]
        }
      ],
      "source": [
        "# Preprocess images\n",
        "\n",
        "processed_input_dir = tempfile.mkdtemp()\n",
        "temp_interpolated_frames_dir = tempfile.mkdtemp()\n",
        "\n",
        "files = get_sorted_images(INPUT_DIR)\n",
        "for f in files:\n",
        "    print(Path(f).name)\n"
      ]
    },
    {
      "cell_type": "code",
      "execution_count": 34,
      "metadata": {
        "colab": {
          "base_uri": "https://localhost:8080/"
        },
        "id": "sbcT_VeE7K3Z",
        "outputId": "2fd12bbd-f420-4a74-c102-1e561182e8e2"
      },
      "outputs": [
        {
          "name": "stdout",
          "output_type": "stream",
          "text": [
            "reference_image sample_data/shahrukh-khan/1998_kuch_kuch_hota_hai.jpg\n"
          ]
        },
        {
          "name": "stderr",
          "output_type": "stream",
          "text": [
            "\rPreparing images:   0%|          | 0/5 [00:00<?, ?it/s]Downloading data from 'https://github.com/danielgatis/rembg/releases/download/v0.0.0/u2net.onnx' to file '/root/.u2net/u2net.onnx'.\n",
            "\n",
            "  0%|                                               | 0.00/176M [00:00<?, ?B/s]\u001b[A\n",
            "  0%|                                       | 66.6k/176M [00:00<04:31, 649kB/s]\u001b[A\n",
            "  0%|                                       | 394k/176M [00:00<01:21, 2.17MB/s]\u001b[A\n",
            "  1%|▎                                     | 1.67M/176M [00:00<00:25, 6.96MB/s]\u001b[A\n",
            "  4%|█▎                                    | 6.20M/176M [00:00<00:07, 22.0MB/s]\u001b[A\n",
            "  6%|██                                    | 9.68M/176M [00:00<00:06, 26.6MB/s]\u001b[A\n",
            "  8%|███                                   | 14.2M/176M [00:00<00:04, 32.8MB/s]\u001b[A\n",
            " 10%|███▉                                  | 18.4M/176M [00:00<00:04, 36.1MB/s]\u001b[A\n",
            " 13%|█████                                 | 23.6M/176M [00:00<00:03, 40.8MB/s]\u001b[A\n",
            " 16%|██████                                | 28.3M/176M [00:00<00:03, 43.0MB/s]\u001b[A\n",
            " 19%|███████▏                              | 33.2M/176M [00:01<00:03, 44.8MB/s]\u001b[A\n",
            " 22%|████████▏                             | 37.9M/176M [00:01<00:03, 45.3MB/s]\u001b[A\n",
            " 24%|█████████▏                            | 42.7M/176M [00:01<00:02, 46.2MB/s]\u001b[A\n",
            " 27%|██████████▎                           | 48.0M/176M [00:01<00:02, 48.2MB/s]\u001b[A\n",
            " 30%|███████████▍                          | 53.1M/176M [00:01<00:02, 47.2MB/s]\u001b[A\n",
            " 33%|████████████▍                         | 57.8M/176M [00:01<00:02, 45.1MB/s]\u001b[A\n",
            " 35%|█████████████▍                        | 62.4M/176M [00:01<00:02, 40.7MB/s]\u001b[A\n",
            " 38%|██████████████▎                       | 66.5M/176M [00:01<00:02, 38.6MB/s]\u001b[A\n",
            " 40%|███████████████▏                      | 70.4M/176M [00:01<00:03, 31.2MB/s]\u001b[A\n",
            " 42%|███████████████▉                      | 73.8M/176M [00:02<00:03, 31.3MB/s]\u001b[A\n",
            " 44%|████████████████▋                     | 77.1M/176M [00:02<00:03, 28.4MB/s]\u001b[A\n",
            " 46%|█████████████████▎                    | 80.1M/176M [00:02<00:04, 22.1MB/s]\u001b[A\n",
            " 47%|█████████████████▊                    | 82.6M/176M [00:02<00:05, 18.5MB/s]\u001b[A\n",
            " 48%|██████████████████▎                   | 84.7M/176M [00:02<00:05, 16.7MB/s]\u001b[A\n",
            " 49%|██████████████████▋                   | 86.5M/176M [00:02<00:05, 15.5MB/s]\u001b[A\n",
            " 50%|███████████████████                   | 88.2M/176M [00:03<00:05, 14.7MB/s]\u001b[A\n",
            " 51%|███████████████████▎                  | 89.7M/176M [00:03<00:06, 14.1MB/s]\u001b[A\n",
            " 52%|███████████████████▋                  | 91.1M/176M [00:03<00:06, 13.8MB/s]\u001b[A\n",
            " 53%|███████████████████▉                  | 92.5M/176M [00:03<00:06, 13.5MB/s]\u001b[A\n",
            " 53%|████████████████████▎                 | 93.9M/176M [00:03<00:06, 13.3MB/s]\u001b[A\n",
            " 54%|████████████████████▌                 | 95.2M/176M [00:03<00:06, 13.2MB/s]\u001b[A\n",
            " 55%|████████████████████▊                 | 96.5M/176M [00:03<00:06, 13.0MB/s]\u001b[A\n",
            " 56%|█████████████████████▏                | 97.8M/176M [00:03<00:06, 12.9MB/s]\u001b[A\n",
            " 56%|█████████████████████▍                | 99.2M/176M [00:03<00:05, 13.0MB/s]\u001b[A\n",
            " 57%|██████████████████████▎                | 100M/176M [00:04<00:06, 12.5MB/s]\u001b[A\n",
            " 58%|██████████████████████▌                | 102M/176M [00:04<00:06, 12.0MB/s]\u001b[A\n",
            " 58%|██████████████████████▊                | 103M/176M [00:04<00:06, 11.1MB/s]\u001b[A\n",
            " 59%|███████████████████████                | 104M/176M [00:04<00:06, 10.6MB/s]\u001b[A\n",
            " 60%|███████████████████████▎               | 105M/176M [00:04<00:06, 10.4MB/s]\u001b[A\n",
            " 60%|███████████████████████▌               | 106M/176M [00:04<00:08, 8.60MB/s]\u001b[A\n",
            " 61%|███████████████████████▊               | 107M/176M [00:04<00:07, 9.59MB/s]\u001b[A\n",
            " 62%|████████████████████████               | 108M/176M [00:05<00:08, 7.87MB/s]\u001b[A\n",
            " 62%|████████████████████████▏              | 109M/176M [00:05<00:08, 7.86MB/s]\u001b[A\n",
            " 63%|████████████████████████▍              | 110M/176M [00:05<00:09, 6.89MB/s]\u001b[A\n",
            " 63%|████████████████████████▌              | 111M/176M [00:05<00:10, 6.35MB/s]\u001b[A\n",
            " 63%|████████████████████████▋              | 112M/176M [00:05<00:10, 6.03MB/s]\u001b[A\n",
            " 64%|████████████████████████▊              | 112M/176M [00:05<00:11, 5.66MB/s]\u001b[A\n",
            " 64%|████████████████████████▉              | 113M/176M [00:05<00:12, 5.03MB/s]\u001b[A\n",
            " 64%|█████████████████████████              | 113M/176M [00:06<00:13, 4.74MB/s]\u001b[A\n",
            " 65%|█████████████████████████▏             | 114M/176M [00:06<00:13, 4.49MB/s]\u001b[A\n",
            " 65%|█████████████████████████▎             | 114M/176M [00:06<00:14, 4.37MB/s]\u001b[A\n",
            " 65%|█████████████████████████▍             | 115M/176M [00:06<00:14, 4.29MB/s]\u001b[A\n",
            " 65%|█████████████████████████▌             | 115M/176M [00:06<00:14, 4.22MB/s]\u001b[A\n",
            " 66%|█████████████████████████▌             | 116M/176M [00:06<00:14, 4.18MB/s]\u001b[A\n",
            " 66%|█████████████████████████▋             | 116M/176M [00:06<00:14, 4.14MB/s]\u001b[A\n",
            " 66%|█████████████████████████▊             | 116M/176M [00:06<00:14, 4.16MB/s]\u001b[A\n",
            " 66%|█████████████████████████▉             | 117M/176M [00:06<00:14, 4.16MB/s]\u001b[A\n",
            " 67%|█████████████████████████▉             | 117M/176M [00:06<00:13, 4.21MB/s]\u001b[A\n",
            " 67%|██████████████████████████             | 118M/176M [00:07<00:13, 4.22MB/s]\u001b[A\n",
            " 67%|██████████████████████████▏            | 118M/176M [00:07<00:15, 3.63MB/s]\u001b[A\n",
            " 67%|██████████████████████████▎            | 119M/176M [00:07<00:14, 4.06MB/s]\u001b[A\n",
            " 68%|██████████████████████████▍            | 119M/176M [00:07<00:14, 3.81MB/s]\u001b[A\n",
            " 68%|██████████████████████████▍            | 119M/176M [00:07<00:15, 3.58MB/s]\u001b[A\n",
            " 68%|██████████████████████████▌            | 120M/176M [00:07<00:16, 3.47MB/s]\u001b[A\n",
            " 68%|██████████████████████████▋            | 120M/176M [00:07<00:16, 3.43MB/s]\u001b[A\n",
            " 68%|██████████████████████████▋            | 121M/176M [00:07<00:18, 3.04MB/s]\u001b[A\n",
            " 69%|██████████████████████████▊            | 121M/176M [00:08<00:17, 3.18MB/s]\u001b[A\n",
            " 69%|██████████████████████████▊            | 121M/176M [00:08<00:18, 2.92MB/s]\u001b[A\n",
            " 69%|██████████████████████████▉            | 122M/176M [00:08<00:19, 2.80MB/s]\u001b[A\n",
            " 69%|██████████████████████████▉            | 122M/176M [00:08<00:19, 2.74MB/s]\u001b[A\n",
            " 69%|███████████████████████████            | 122M/176M [00:08<00:20, 2.68MB/s]\u001b[A\n",
            " 70%|███████████████████████████            | 122M/176M [00:08<00:20, 2.63MB/s]\u001b[A\n",
            " 70%|███████████████████████████▏           | 123M/176M [00:08<00:20, 2.62MB/s]\u001b[A\n",
            " 70%|███████████████████████████▏           | 123M/176M [00:08<00:20, 2.59MB/s]\u001b[A\n",
            " 70%|███████████████████████████▎           | 123M/176M [00:08<00:20, 2.58MB/s]\u001b[A\n",
            " 70%|███████████████████████████▎           | 123M/176M [00:09<00:20, 2.60MB/s]\u001b[A\n",
            " 70%|███████████████████████████▍           | 124M/176M [00:09<00:20, 2.60MB/s]\u001b[A\n",
            " 70%|███████████████████████████▍           | 124M/176M [00:09<00:19, 2.63MB/s]\u001b[A\n",
            " 71%|███████████████████████████▌           | 124M/176M [00:09<00:19, 2.64MB/s]\u001b[A\n",
            " 71%|███████████████████████████▌           | 125M/176M [00:09<00:19, 2.65MB/s]\u001b[A\n",
            " 71%|███████████████████████████▋           | 125M/176M [00:09<00:19, 2.69MB/s]\u001b[A\n",
            " 71%|███████████████████████████▋           | 125M/176M [00:09<00:18, 2.72MB/s]\u001b[A\n",
            " 71%|███████████████████████████▊           | 125M/176M [00:09<00:18, 2.75MB/s]\u001b[A\n",
            " 71%|███████████████████████████▊           | 126M/176M [00:09<00:18, 2.79MB/s]\u001b[A\n",
            " 72%|███████████████████████████▉           | 126M/176M [00:10<00:17, 2.81MB/s]\u001b[A\n",
            " 72%|███████████████████████████▉           | 126M/176M [00:10<00:17, 2.85MB/s]\u001b[A\n",
            " 72%|████████████████████████████           | 127M/176M [00:10<00:17, 2.88MB/s]\u001b[A\n",
            " 72%|████████████████████████████▏          | 127M/176M [00:10<00:16, 2.90MB/s]\u001b[A\n",
            " 72%|████████████████████████████▏          | 127M/176M [00:10<00:16, 2.94MB/s]\u001b[A\n",
            " 72%|████████████████████████████▎          | 128M/176M [00:10<00:16, 2.96MB/s]\u001b[A\n",
            " 73%|████████████████████████████▎          | 128M/176M [00:10<00:16, 2.99MB/s]\u001b[A\n",
            " 73%|████████████████████████████▍          | 128M/176M [00:10<00:15, 3.02MB/s]\u001b[A\n",
            " 73%|████████████████████████████▍          | 129M/176M [00:10<00:15, 3.05MB/s]\u001b[A\n",
            " 73%|████████████████████████████▌          | 129M/176M [00:10<00:15, 3.09MB/s]\u001b[A\n",
            " 73%|████████████████████████████▋          | 129M/176M [00:11<00:15, 3.11MB/s]\u001b[A\n",
            " 74%|████████████████████████████▋          | 130M/176M [00:11<00:14, 3.14MB/s]\u001b[A\n",
            " 74%|████████████████████████████▊          | 130M/176M [00:11<00:14, 3.18MB/s]\u001b[A\n",
            " 74%|████████████████████████████▊          | 130M/176M [00:11<00:14, 3.21MB/s]\u001b[A\n",
            " 74%|████████████████████████████▉          | 131M/176M [00:11<00:14, 3.23MB/s]\u001b[A\n",
            " 74%|█████████████████████████████          | 131M/176M [00:11<00:13, 3.27MB/s]\u001b[A\n",
            " 75%|█████████████████████████████          | 131M/176M [00:11<00:13, 3.29MB/s]\u001b[A\n",
            " 75%|█████████████████████████████▏         | 132M/176M [00:11<00:13, 3.34MB/s]\u001b[A\n",
            " 75%|█████████████████████████████▏         | 132M/176M [00:11<00:12, 3.41MB/s]\u001b[A\n",
            " 75%|█████████████████████████████▎         | 132M/176M [00:11<00:12, 3.37MB/s]\u001b[A\n",
            " 75%|█████████████████████████████▍         | 133M/176M [00:12<00:12, 3.41MB/s]\u001b[A\n",
            " 76%|█████████████████████████████▍         | 133M/176M [00:12<00:12, 3.39MB/s]\u001b[A\n",
            " 76%|█████████████████████████████▌         | 133M/176M [00:12<00:12, 3.41MB/s]\u001b[A\n",
            " 76%|█████████████████████████████▋         | 134M/176M [00:12<00:12, 3.46MB/s]\u001b[A\n",
            " 76%|█████████████████████████████▋         | 134M/176M [00:12<00:12, 3.34MB/s]\u001b[A\n",
            " 76%|█████████████████████████████▊         | 134M/176M [00:12<00:12, 3.20MB/s]\u001b[A\n",
            " 77%|█████████████████████████████▊         | 135M/176M [00:12<00:15, 2.60MB/s]\u001b[A\n",
            " 77%|█████████████████████████████▉         | 135M/176M [00:12<00:17, 2.37MB/s]\u001b[A\n",
            " 77%|█████████████████████████████▉         | 135M/176M [00:13<00:17, 2.28MB/s]\u001b[A\n",
            " 77%|██████████████████████████████         | 136M/176M [00:13<00:18, 2.15MB/s]\u001b[A\n",
            " 77%|██████████████████████████████         | 136M/176M [00:13<00:18, 2.15MB/s]\u001b[A\n",
            " 77%|██████████████████████████████▏        | 136M/176M [00:13<00:19, 2.10MB/s]\u001b[A\n",
            " 77%|██████████████████████████████▏        | 136M/176M [00:13<00:19, 2.08MB/s]\u001b[A\n",
            " 77%|██████████████████████████████▏        | 136M/176M [00:13<00:19, 2.06MB/s]\u001b[A\n",
            " 78%|██████████████████████████████▎        | 137M/176M [00:13<00:19, 2.06MB/s]\u001b[A\n",
            " 78%|██████████████████████████████▎        | 137M/176M [00:13<00:18, 2.08MB/s]\u001b[A\n",
            " 78%|██████████████████████████████▎        | 137M/176M [00:13<00:18, 2.07MB/s]\u001b[A\n",
            " 78%|██████████████████████████████▍        | 137M/176M [00:14<00:18, 2.11MB/s]\u001b[A\n",
            " 78%|██████████████████████████████▍        | 138M/176M [00:14<00:17, 2.14MB/s]\u001b[A\n",
            " 78%|██████████████████████████████▌        | 138M/176M [00:14<00:20, 1.90MB/s]\u001b[A\n",
            " 78%|██████████████████████████████▌        | 138M/176M [00:14<00:18, 2.04MB/s]\u001b[A\n",
            " 79%|██████████████████████████████▌        | 138M/176M [00:14<00:21, 1.75MB/s]\u001b[A\n",
            " 79%|██████████████████████████████▋        | 138M/176M [00:14<00:23, 1.57MB/s]\u001b[A\n",
            " 79%|██████████████████████████████▋        | 139M/176M [00:14<00:29, 1.28MB/s]\u001b[A\n",
            " 79%|██████████████████████████████▋        | 139M/176M [00:15<00:28, 1.31MB/s]\u001b[A\n",
            " 79%|██████████████████████████████▊        | 139M/176M [00:15<00:30, 1.21MB/s]\u001b[A\n",
            " 79%|██████████████████████████████▊        | 139M/176M [00:15<00:32, 1.12MB/s]\u001b[A\n",
            " 79%|██████████████████████████████▊        | 139M/176M [00:15<00:34, 1.08MB/s]\u001b[A\n",
            " 79%|██████████████████████████████▊        | 139M/176M [00:15<00:36, 1.02MB/s]\u001b[A\n",
            " 79%|███████████████████████████████▋        | 139M/176M [00:15<00:37, 968kB/s]\u001b[A\n",
            " 79%|███████████████████████████████▋        | 139M/176M [00:15<00:40, 914kB/s]\u001b[A\n",
            " 79%|███████████████████████████████▋        | 139M/176M [00:15<00:41, 871kB/s]\u001b[A\n",
            " 79%|███████████████████████████████▋        | 140M/176M [00:16<00:43, 846kB/s]\u001b[A\n",
            " 79%|███████████████████████████████▋        | 140M/176M [00:16<00:42, 847kB/s]\u001b[A\n",
            " 79%|███████████████████████████████▊        | 140M/176M [00:16<00:43, 831kB/s]\u001b[A\n",
            " 79%|███████████████████████████████▊        | 140M/176M [00:16<00:45, 793kB/s]\u001b[A\n",
            " 80%|███████████████████████████████▊        | 140M/176M [00:16<00:49, 732kB/s]\u001b[A\n",
            " 80%|███████████████████████████████▊        | 140M/176M [00:16<00:50, 709kB/s]\u001b[A\n",
            " 80%|███████████████████████████████▊        | 140M/176M [00:16<00:50, 705kB/s]\u001b[A\n",
            " 80%|███████████████████████████████▊        | 140M/176M [00:16<00:50, 708kB/s]\u001b[A\n",
            " 80%|███████████████████████████████▉        | 140M/176M [00:17<00:49, 725kB/s]\u001b[A\n",
            " 80%|███████████████████████████████▉        | 140M/176M [00:17<00:47, 745kB/s]\u001b[A\n",
            " 80%|███████████████████████████████▉        | 140M/176M [00:17<00:46, 758kB/s]\u001b[A\n",
            " 80%|███████████████████████████████▉        | 141M/176M [00:17<00:44, 797kB/s]\u001b[A\n",
            " 80%|███████████████████████████████▉        | 141M/176M [00:17<00:42, 829kB/s]\u001b[A\n",
            " 80%|███████████████████████████████▉        | 141M/176M [00:17<00:41, 854kB/s]\u001b[A\n",
            " 80%|████████████████████████████████        | 141M/176M [00:17<00:39, 883kB/s]\u001b[A\n",
            " 80%|████████████████████████████████        | 141M/176M [00:17<00:37, 928kB/s]\u001b[A\n",
            " 80%|████████████████████████████████        | 141M/176M [00:17<00:38, 906kB/s]\u001b[A\n",
            " 80%|████████████████████████████████        | 141M/176M [00:17<00:38, 898kB/s]\u001b[A\n",
            " 80%|████████████████████████████████        | 141M/176M [00:18<00:40, 863kB/s]\u001b[A\n",
            " 80%|████████████████████████████████        | 141M/176M [00:18<00:42, 824kB/s]\u001b[A\n",
            " 80%|████████████████████████████████▏       | 141M/176M [00:18<00:41, 825kB/s]\u001b[A\n",
            " 80%|████████████████████████████████▏       | 141M/176M [00:18<00:41, 834kB/s]\u001b[A\n",
            " 80%|████████████████████████████████▏       | 142M/176M [00:18<00:40, 854kB/s]\u001b[A\n",
            " 81%|████████████████████████████████▏       | 142M/176M [00:18<00:40, 851kB/s]\u001b[A\n",
            " 81%|████████████████████████████████▏       | 142M/176M [00:18<00:39, 874kB/s]\u001b[A\n",
            " 81%|████████████████████████████████▏       | 142M/176M [00:18<00:38, 894kB/s]\u001b[A\n",
            " 81%|████████████████████████████████▎       | 142M/176M [00:18<00:36, 935kB/s]\u001b[A\n",
            " 81%|████████████████████████████████▎       | 142M/176M [00:19<00:35, 963kB/s]\u001b[A\n",
            " 81%|████████████████████████████████▎       | 142M/176M [00:19<00:34, 969kB/s]\u001b[A\n",
            " 81%|███████████████████████████████▌       | 142M/176M [00:19<00:33, 1.01MB/s]\u001b[A\n",
            " 81%|███████████████████████████████▌       | 142M/176M [00:19<00:32, 1.04MB/s]\u001b[A\n",
            " 81%|███████████████████████████████▌       | 143M/176M [00:19<00:30, 1.09MB/s]\u001b[A\n",
            " 81%|███████████████████████████████▌       | 143M/176M [00:19<00:29, 1.12MB/s]\u001b[A\n",
            " 81%|███████████████████████████████▋       | 143M/176M [00:19<00:28, 1.16MB/s]\u001b[A\n",
            " 81%|███████████████████████████████▋       | 143M/176M [00:19<00:28, 1.16MB/s]\u001b[A\n",
            " 81%|███████████████████████████████▋       | 143M/176M [00:19<00:27, 1.21MB/s]\u001b[A\n",
            " 81%|███████████████████████████████▋       | 143M/176M [00:20<00:26, 1.24MB/s]\u001b[A\n",
            " 81%|███████████████████████████████▊       | 143M/176M [00:20<00:25, 1.28MB/s]\u001b[A\n",
            " 82%|███████████████████████████████▊       | 144M/176M [00:20<00:24, 1.32MB/s]\u001b[A\n",
            " 82%|███████████████████████████████▊       | 144M/176M [00:20<00:23, 1.35MB/s]\u001b[A\n",
            " 82%|███████████████████████████████▉       | 144M/176M [00:20<00:23, 1.36MB/s]\u001b[A\n",
            " 82%|███████████████████████████████▉       | 144M/176M [00:20<00:22, 1.40MB/s]\u001b[A\n",
            " 82%|███████████████████████████████▉       | 144M/176M [00:20<00:22, 1.43MB/s]\u001b[A\n",
            " 82%|███████████████████████████████▉       | 144M/176M [00:20<00:21, 1.47MB/s]\u001b[A\n",
            " 82%|████████████████████████████████       | 144M/176M [00:20<00:22, 1.43MB/s]\u001b[A\n",
            " 82%|████████████████████████████████       | 145M/176M [00:21<00:22, 1.37MB/s]\u001b[A\n",
            " 82%|████████████████████████████████       | 145M/176M [00:21<00:24, 1.28MB/s]\u001b[A\n",
            " 82%|████████████████████████████████       | 145M/176M [00:21<00:24, 1.27MB/s]\u001b[A\n",
            " 82%|████████████████████████████████▏      | 145M/176M [00:21<00:24, 1.26MB/s]\u001b[A\n",
            " 82%|████████████████████████████████▏      | 145M/176M [00:21<00:24, 1.27MB/s]\u001b[A\n",
            " 83%|████████████████████████████████▏      | 145M/176M [00:21<00:23, 1.29MB/s]\u001b[A\n",
            " 83%|████████████████████████████████▏      | 145M/176M [00:21<00:26, 1.14MB/s]\u001b[A\n",
            " 83%|████████████████████████████████▎      | 146M/176M [00:21<00:24, 1.24MB/s]\u001b[A\n",
            " 83%|████████████████████████████████▎      | 146M/176M [00:22<00:28, 1.06MB/s]\u001b[A\n",
            " 83%|████████████████████████████████▎      | 146M/176M [00:22<00:28, 1.05MB/s]\u001b[A\n",
            " 83%|█████████████████████████████████▏      | 146M/176M [00:22<00:30, 985kB/s]\u001b[A\n",
            " 83%|█████████████████████████████████▏      | 146M/176M [00:22<00:32, 924kB/s]\u001b[A\n",
            " 83%|█████████████████████████████████▏      | 146M/176M [00:22<00:34, 872kB/s]\u001b[A\n",
            " 83%|█████████████████████████████████▏      | 146M/176M [00:22<00:35, 840kB/s]\u001b[A\n",
            " 83%|█████████████████████████████████▎      | 146M/176M [00:22<00:36, 809kB/s]\u001b[A\n",
            " 83%|█████████████████████████████████▎      | 146M/176M [00:22<00:38, 773kB/s]\u001b[A\n",
            " 83%|█████████████████████████████████▎      | 147M/176M [00:23<00:40, 724kB/s]\u001b[A\n",
            " 83%|█████████████████████████████████▎      | 147M/176M [00:23<00:40, 723kB/s]\u001b[A\n",
            " 83%|█████████████████████████████████▎      | 147M/176M [00:23<00:40, 725kB/s]\u001b[A\n",
            " 83%|█████████████████████████████████▎      | 147M/176M [00:23<00:40, 718kB/s]\u001b[A\n",
            " 83%|█████████████████████████████████▎      | 147M/176M [00:23<00:39, 733kB/s]\u001b[A\n",
            " 83%|█████████████████████████████████▍      | 147M/176M [00:23<00:38, 750kB/s]\u001b[A\n",
            " 84%|█████████████████████████████████▍      | 147M/176M [00:23<00:37, 772kB/s]\u001b[A\n",
            " 84%|█████████████████████████████████▍      | 147M/176M [00:23<00:36, 788kB/s]\u001b[A\n",
            " 84%|█████████████████████████████████▍      | 147M/176M [00:23<00:35, 819kB/s]\u001b[A\n",
            " 84%|█████████████████████████████████▍      | 147M/176M [00:24<00:33, 850kB/s]\u001b[A\n",
            " 84%|█████████████████████████████████▌      | 147M/176M [00:24<00:32, 880kB/s]\u001b[A\n",
            " 84%|█████████████████████████████████▌      | 148M/176M [00:24<00:30, 925kB/s]\u001b[A\n",
            " 84%|█████████████████████████████████▌      | 148M/176M [00:24<00:30, 935kB/s]\u001b[A\n",
            " 84%|█████████████████████████████████▌      | 148M/176M [00:24<00:28, 977kB/s]\u001b[A\n",
            " 84%|████████████████████████████████▊      | 148M/176M [00:24<00:27, 1.01MB/s]\u001b[A\n",
            " 84%|████████████████████████████████▊      | 148M/176M [00:24<00:26, 1.04MB/s]\u001b[A\n",
            " 84%|████████████████████████████████▊      | 148M/176M [00:24<00:25, 1.08MB/s]\u001b[A\n",
            " 84%|████████████████████████████████▊      | 148M/176M [00:24<00:25, 1.09MB/s]\u001b[A\n",
            " 84%|████████████████████████████████▉      | 148M/176M [00:25<00:24, 1.13MB/s]\u001b[A\n",
            " 84%|████████████████████████████████▉      | 149M/176M [00:25<00:23, 1.17MB/s]\u001b[A\n",
            " 84%|████████████████████████████████▉      | 149M/176M [00:25<00:22, 1.20MB/s]\u001b[A\n",
            " 85%|████████████████████████████████▉      | 149M/176M [00:25<00:21, 1.24MB/s]\u001b[A\n",
            " 85%|█████████████████████████████████      | 149M/176M [00:25<00:21, 1.28MB/s]\u001b[A\n",
            " 85%|█████████████████████████████████      | 149M/176M [00:25<00:20, 1.32MB/s]\u001b[A\n",
            " 85%|█████████████████████████████████      | 149M/176M [00:25<00:20, 1.34MB/s]\u001b[A\n",
            " 85%|█████████████████████████████████      | 149M/176M [00:25<00:19, 1.37MB/s]\u001b[A\n",
            " 85%|█████████████████████████████████▏     | 150M/176M [00:25<00:18, 1.41MB/s]\u001b[A\n",
            " 85%|█████████████████████████████████▏     | 150M/176M [00:25<00:18, 1.44MB/s]\u001b[A\n",
            " 85%|█████████████████████████████████▏     | 150M/176M [00:26<00:17, 1.46MB/s]\u001b[A\n",
            " 85%|█████████████████████████████████▏     | 150M/176M [00:26<00:17, 1.50MB/s]\u001b[A\n",
            " 85%|█████████████████████████████████▎     | 150M/176M [00:26<00:16, 1.52MB/s]\u001b[A\n",
            " 85%|█████████████████████████████████▎     | 150M/176M [00:26<00:16, 1.57MB/s]\u001b[A\n",
            " 86%|█████████████████████████████████▎     | 151M/176M [00:26<00:15, 1.61MB/s]\u001b[A\n",
            " 86%|█████████████████████████████████▍     | 151M/176M [00:26<00:15, 1.64MB/s]\u001b[A\n",
            " 86%|█████████████████████████████████▍     | 151M/176M [00:26<00:14, 1.67MB/s]\u001b[A\n",
            " 86%|█████████████████████████████████▍     | 151M/176M [00:26<00:14, 1.70MB/s]\u001b[A\n",
            " 86%|█████████████████████████████████▌     | 151M/176M [00:26<00:16, 1.46MB/s]\u001b[A\n",
            " 86%|█████████████████████████████████▌     | 152M/176M [00:27<00:14, 1.67MB/s]\u001b[A\n",
            " 86%|█████████████████████████████████▌     | 152M/176M [00:27<00:15, 1.61MB/s]\u001b[A\n",
            " 86%|█████████████████████████████████▋     | 152M/176M [00:27<00:15, 1.54MB/s]\u001b[A\n",
            " 86%|█████████████████████████████████▋     | 152M/176M [00:27<00:16, 1.49MB/s]\u001b[A\n",
            " 86%|█████████████████████████████████▋     | 152M/176M [00:27<00:17, 1.35MB/s]\u001b[A\n",
            " 87%|█████████████████████████████████▊     | 152M/176M [00:27<00:16, 1.40MB/s]\u001b[A\n",
            " 87%|█████████████████████████████████▊     | 152M/176M [00:27<00:17, 1.35MB/s]\u001b[A\n",
            " 87%|█████████████████████████████████▊     | 153M/176M [00:27<00:18, 1.25MB/s]\u001b[A\n",
            " 87%|█████████████████████████████████▊     | 153M/176M [00:28<00:19, 1.22MB/s]\u001b[A\n",
            " 87%|█████████████████████████████████▊     | 153M/176M [00:28<00:19, 1.21MB/s]\u001b[A\n",
            " 87%|█████████████████████████████████▉     | 153M/176M [00:28<00:19, 1.20MB/s]\u001b[A\n",
            " 87%|█████████████████████████████████▉     | 153M/176M [00:28<00:18, 1.22MB/s]\u001b[A\n",
            " 87%|█████████████████████████████████▉     | 153M/176M [00:28<00:18, 1.23MB/s]\u001b[A\n",
            " 87%|█████████████████████████████████▉     | 153M/176M [00:28<00:17, 1.30MB/s]\u001b[A\n",
            " 87%|██████████████████████████████████     | 154M/176M [00:28<00:17, 1.28MB/s]\u001b[A\n",
            " 87%|██████████████████████████████████     | 154M/176M [00:28<00:17, 1.31MB/s]\u001b[A\n",
            " 87%|██████████████████████████████████     | 154M/176M [00:28<00:16, 1.34MB/s]\u001b[A\n",
            " 87%|██████████████████████████████████     | 154M/176M [00:28<00:16, 1.36MB/s]\u001b[A\n",
            " 88%|██████████████████████████████████▏    | 154M/176M [00:29<00:15, 1.40MB/s]\u001b[A\n",
            " 88%|██████████████████████████████████▏    | 154M/176M [00:29<00:15, 1.44MB/s]\u001b[A\n",
            " 88%|██████████████████████████████████▏    | 154M/176M [00:29<00:17, 1.25MB/s]\u001b[A\n",
            " 88%|██████████████████████████████████▎    | 155M/176M [00:29<00:15, 1.40MB/s]\u001b[A\n",
            " 88%|██████████████████████████████████▎    | 155M/176M [00:29<00:17, 1.20MB/s]\u001b[A\n",
            " 88%|██████████████████████████████████▎    | 155M/176M [00:29<00:20, 1.05MB/s]\u001b[A\n",
            " 88%|███████████████████████████████████▏    | 155M/176M [00:29<00:21, 987kB/s]\u001b[A\n",
            " 88%|███████████████████████████████████▎    | 155M/176M [00:30<00:22, 941kB/s]\u001b[A\n",
            " 88%|███████████████████████████████████▎    | 155M/176M [00:30<00:22, 928kB/s]\u001b[A\n",
            " 88%|███████████████████████████████████▎    | 155M/176M [00:30<00:22, 937kB/s]\u001b[A\n",
            " 88%|███████████████████████████████████▎    | 155M/176M [00:30<00:21, 944kB/s]\u001b[A\n",
            " 88%|███████████████████████████████████▎    | 156M/176M [00:30<00:21, 969kB/s]\u001b[A\n",
            " 88%|███████████████████████████████████▍    | 156M/176M [00:30<00:20, 998kB/s]\u001b[A\n",
            " 89%|██████████████████████████████████▌    | 156M/176M [00:30<00:19, 1.02MB/s]\u001b[A\n",
            " 89%|██████████████████████████████████▌    | 156M/176M [00:30<00:19, 1.04MB/s]\u001b[A\n",
            " 89%|██████████████████████████████████▌    | 156M/176M [00:30<00:18, 1.07MB/s]\u001b[A\n",
            " 89%|██████████████████████████████████▌    | 156M/176M [00:31<00:17, 1.11MB/s]\u001b[A\n",
            " 89%|██████████████████████████████████▋    | 156M/176M [00:31<00:17, 1.12MB/s]\u001b[A\n",
            " 89%|██████████████████████████████████▋    | 156M/176M [00:31<00:16, 1.16MB/s]\u001b[A\n",
            " 89%|██████████████████████████████████▋    | 157M/176M [00:31<00:16, 1.19MB/s]\u001b[A\n",
            " 89%|██████████████████████████████████▋    | 157M/176M [00:31<00:15, 1.24MB/s]\u001b[A\n",
            " 89%|██████████████████████████████████▊    | 157M/176M [00:31<00:15, 1.27MB/s]\u001b[A\n",
            " 89%|██████████████████████████████████▊    | 157M/176M [00:31<00:14, 1.30MB/s]\u001b[A\n",
            " 89%|██████████████████████████████████▊    | 157M/176M [00:31<00:14, 1.32MB/s]\u001b[A\n",
            " 89%|██████████████████████████████████▊    | 157M/176M [00:31<00:13, 1.36MB/s]\u001b[A\n",
            " 89%|██████████████████████████████████▉    | 157M/176M [00:31<00:12, 1.44MB/s]\u001b[A\n",
            " 90%|██████████████████████████████████▉    | 158M/176M [00:32<00:12, 1.44MB/s]\u001b[A\n",
            " 90%|██████████████████████████████████▉    | 158M/176M [00:32<00:12, 1.43MB/s]\u001b[A\n",
            " 90%|██████████████████████████████████▉    | 158M/176M [00:32<00:12, 1.47MB/s]\u001b[A\n",
            " 90%|███████████████████████████████████    | 158M/176M [00:32<00:11, 1.50MB/s]\u001b[A\n",
            " 90%|███████████████████████████████████    | 158M/176M [00:32<00:11, 1.54MB/s]\u001b[A\n",
            " 90%|███████████████████████████████████    | 158M/176M [00:32<00:11, 1.58MB/s]\u001b[A\n",
            " 90%|███████████████████████████████████▏   | 159M/176M [00:32<00:10, 1.61MB/s]\u001b[A\n",
            " 90%|███████████████████████████████████▏   | 159M/176M [00:32<00:10, 1.65MB/s]\u001b[A\n",
            " 90%|███████████████████████████████████▏   | 159M/176M [00:32<00:10, 1.68MB/s]\u001b[A\n",
            " 90%|███████████████████████████████████▎   | 159M/176M [00:33<00:09, 1.71MB/s]\u001b[A\n",
            " 91%|███████████████████████████████████▎   | 159M/176M [00:33<00:09, 1.74MB/s]\u001b[A\n",
            " 91%|███████████████████████████████████▎   | 160M/176M [00:33<00:09, 1.78MB/s]\u001b[A\n",
            " 91%|███████████████████████████████████▍   | 160M/176M [00:33<00:09, 1.80MB/s]\u001b[A\n",
            " 91%|███████████████████████████████████▍   | 160M/176M [00:33<00:08, 1.83MB/s]\u001b[A\n",
            " 91%|███████████████████████████████████▍   | 160M/176M [00:33<00:08, 1.85MB/s]\u001b[A\n",
            " 91%|███████████████████████████████████▌   | 160M/176M [00:33<00:08, 1.90MB/s]\u001b[A\n",
            " 91%|███████████████████████████████████▌   | 161M/176M [00:33<00:08, 1.92MB/s]\u001b[A\n",
            " 91%|███████████████████████████████████▌   | 161M/176M [00:33<00:07, 1.96MB/s]\u001b[A\n",
            " 91%|███████████████████████████████████▋   | 161M/176M [00:33<00:07, 1.99MB/s]\u001b[A\n",
            " 92%|███████████████████████████████████▋   | 161M/176M [00:34<00:07, 2.02MB/s]\u001b[A\n",
            " 92%|███████████████████████████████████▊   | 161M/176M [00:34<00:07, 2.04MB/s]\u001b[A\n",
            " 92%|███████████████████████████████████▊   | 162M/176M [00:34<00:06, 2.08MB/s]\u001b[A\n",
            " 92%|███████████████████████████████████▊   | 162M/176M [00:34<00:06, 2.10MB/s]\u001b[A\n",
            " 92%|███████████████████████████████████▉   | 162M/176M [00:34<00:06, 2.05MB/s]\u001b[A\n",
            " 92%|███████████████████████████████████▉   | 162M/176M [00:34<00:07, 1.94MB/s]\u001b[A\n",
            " 92%|████████████████████████████████████   | 162M/176M [00:34<00:07, 1.83MB/s]\u001b[A\n",
            " 92%|████████████████████████████████████   | 163M/176M [00:34<00:07, 1.81MB/s]\u001b[A\n",
            " 93%|████████████████████████████████████   | 163M/176M [00:34<00:07, 1.77MB/s]\u001b[A\n",
            " 93%|████████████████████████████████████▏  | 163M/176M [00:35<00:07, 1.79MB/s]\u001b[A\n",
            " 93%|████████████████████████████████████▏  | 163M/176M [00:35<00:07, 1.81MB/s]\u001b[A\n",
            " 93%|████████████████████████████████████▏  | 163M/176M [00:35<00:06, 1.84MB/s]\u001b[A\n",
            " 93%|████████████████████████████████████▎  | 164M/176M [00:35<00:06, 1.82MB/s]\u001b[A\n",
            " 93%|████████████████████████████████████▎  | 164M/176M [00:35<00:07, 1.66MB/s]\u001b[A\n",
            " 93%|████████████████████████████████████▎  | 164M/176M [00:35<00:07, 1.56MB/s]\u001b[A\n",
            " 93%|████████████████████████████████████▎  | 164M/176M [00:35<00:08, 1.35MB/s]\u001b[A\n",
            " 93%|████████████████████████████████████▍  | 164M/176M [00:35<00:09, 1.27MB/s]\u001b[A\n",
            " 93%|████████████████████████████████████▍  | 164M/176M [00:36<00:09, 1.21MB/s]\u001b[A\n",
            " 93%|████████████████████████████████████▍  | 165M/176M [00:36<00:09, 1.15MB/s]\u001b[A\n",
            " 94%|████████████████████████████████████▍  | 165M/176M [00:36<00:09, 1.14MB/s]\u001b[A\n",
            " 94%|████████████████████████████████████▌  | 165M/176M [00:36<00:09, 1.14MB/s]\u001b[A\n",
            " 94%|████████████████████████████████████▌  | 165M/176M [00:36<00:09, 1.16MB/s]\u001b[A\n",
            " 94%|████████████████████████████████████▌  | 165M/176M [00:36<00:09, 1.17MB/s]\u001b[A\n",
            " 94%|████████████████████████████████████▌  | 165M/176M [00:36<00:09, 1.20MB/s]\u001b[A\n",
            " 94%|████████████████████████████████████▋  | 165M/176M [00:36<00:08, 1.21MB/s]\u001b[A\n",
            " 94%|████████████████████████████████████▋  | 165M/176M [00:36<00:08, 1.24MB/s]\u001b[A\n",
            " 94%|████████████████████████████████████▋  | 166M/176M [00:37<00:08, 1.27MB/s]\u001b[A\n",
            " 94%|████████████████████████████████████▋  | 166M/176M [00:37<00:07, 1.30MB/s]\u001b[A\n",
            " 94%|████████████████████████████████████▊  | 166M/176M [00:37<00:07, 1.34MB/s]\u001b[A\n",
            " 94%|████████████████████████████████████▊  | 166M/176M [00:37<00:07, 1.37MB/s]\u001b[A\n",
            " 94%|████████████████████████████████████▊  | 166M/176M [00:37<00:06, 1.41MB/s]\u001b[A\n",
            " 95%|████████████████████████████████████▊  | 166M/176M [00:37<00:06, 1.44MB/s]\u001b[A\n",
            " 95%|████████████████████████████████████▉  | 167M/176M [00:37<00:06, 1.46MB/s]\u001b[A\n",
            " 95%|████████████████████████████████████▉  | 167M/176M [00:37<00:06, 1.49MB/s]\u001b[A\n",
            " 95%|████████████████████████████████████▉  | 167M/176M [00:37<00:06, 1.51MB/s]\u001b[A\n",
            " 95%|█████████████████████████████████████  | 167M/176M [00:37<00:05, 1.56MB/s]\u001b[A\n",
            " 95%|█████████████████████████████████████  | 167M/176M [00:38<00:05, 1.55MB/s]\u001b[A\n",
            " 95%|█████████████████████████████████████  | 167M/176M [00:38<00:06, 1.32MB/s]\u001b[A\n",
            " 95%|█████████████████████████████████████  | 167M/176M [00:38<00:06, 1.25MB/s]\u001b[A\n",
            " 95%|█████████████████████████████████████▏ | 168M/176M [00:38<00:07, 1.14MB/s]\u001b[A\n",
            " 95%|██████████████████████████████████████  | 168M/176M [00:38<00:08, 956kB/s]\u001b[A\n",
            " 95%|██████████████████████████████████████▏ | 168M/176M [00:38<00:08, 978kB/s]\u001b[A\n",
            " 95%|██████████████████████████████████████▏ | 168M/176M [00:38<00:09, 896kB/s]\u001b[A\n",
            " 95%|██████████████████████████████████████▏ | 168M/176M [00:39<00:09, 834kB/s]\u001b[A\n",
            " 96%|██████████████████████████████████████▏ | 168M/176M [00:39<00:09, 824kB/s]\u001b[A\n",
            " 96%|██████████████████████████████████████▏ | 168M/176M [00:39<00:09, 818kB/s]\u001b[A\n",
            " 96%|██████████████████████████████████████▏ | 168M/176M [00:39<00:09, 808kB/s]\u001b[A\n",
            " 96%|██████████████████████████████████████▎ | 168M/176M [00:39<00:09, 821kB/s]\u001b[A\n",
            " 96%|██████████████████████████████████████▎ | 168M/176M [00:39<00:09, 835kB/s]\u001b[A\n",
            " 96%|██████████████████████████████████████▎ | 169M/176M [00:39<00:08, 866kB/s]\u001b[A\n",
            " 96%|██████████████████████████████████████▎ | 169M/176M [00:39<00:08, 887kB/s]\u001b[A\n",
            " 96%|██████████████████████████████████████▎ | 169M/176M [00:39<00:07, 913kB/s]\u001b[A\n",
            " 96%|██████████████████████████████████████▍ | 169M/176M [00:40<00:07, 953kB/s]\u001b[A\n",
            " 96%|██████████████████████████████████████▍ | 169M/176M [00:40<00:07, 969kB/s]\u001b[A\n",
            " 96%|██████████████████████████████████████▍ | 169M/176M [00:40<00:06, 999kB/s]\u001b[A\n",
            " 96%|█████████████████████████████████████▌ | 169M/176M [00:40<00:06, 1.04MB/s]\u001b[A\n",
            " 96%|█████████████████████████████████████▌ | 169M/176M [00:40<00:06, 1.07MB/s]\u001b[A\n",
            " 96%|█████████████████████████████████████▌ | 169M/176M [00:40<00:05, 1.11MB/s]\u001b[A\n",
            " 96%|█████████████████████████████████████▌ | 170M/176M [00:40<00:05, 1.14MB/s]\u001b[A\n",
            " 96%|█████████████████████████████████████▌ | 170M/176M [00:40<00:05, 1.18MB/s]\u001b[A\n",
            " 97%|█████████████████████████████████████▋ | 170M/176M [00:40<00:05, 1.21MB/s]\u001b[A\n",
            " 97%|█████████████████████████████████████▋ | 170M/176M [00:41<00:04, 1.22MB/s]\u001b[A\n",
            " 97%|█████████████████████████████████████▋ | 170M/176M [00:41<00:04, 1.27MB/s]\u001b[A\n",
            " 97%|█████████████████████████████████████▋ | 170M/176M [00:41<00:04, 1.29MB/s]\u001b[A\n",
            " 97%|█████████████████████████████████████▊ | 170M/176M [00:41<00:04, 1.33MB/s]\u001b[A\n",
            " 97%|█████████████████████████████████████▊ | 171M/176M [00:41<00:03, 1.36MB/s]\u001b[A\n",
            " 97%|█████████████████████████████████████▊ | 171M/176M [00:41<00:03, 1.36MB/s]\u001b[A\n",
            " 97%|█████████████████████████████████████▊ | 171M/176M [00:41<00:03, 1.27MB/s]\u001b[A\n",
            " 97%|█████████████████████████████████████▉ | 171M/176M [00:41<00:04, 1.21MB/s]\u001b[A\n",
            " 97%|█████████████████████████████████████▉ | 171M/176M [00:41<00:04, 1.20MB/s]\u001b[A\n",
            " 97%|█████████████████████████████████████▉ | 171M/176M [00:42<00:03, 1.19MB/s]\u001b[A\n",
            " 97%|█████████████████████████████████████▉ | 171M/176M [00:42<00:03, 1.21MB/s]\u001b[A\n",
            " 97%|██████████████████████████████████████ | 172M/176M [00:42<00:03, 1.22MB/s]\u001b[A\n",
            " 98%|██████████████████████████████████████ | 172M/176M [00:42<00:03, 1.24MB/s]\u001b[A\n",
            " 98%|██████████████████████████████████████ | 172M/176M [00:42<00:03, 1.26MB/s]\u001b[A\n",
            " 98%|██████████████████████████████████████ | 172M/176M [00:42<00:03, 1.30MB/s]\u001b[A\n",
            " 98%|██████████████████████████████████████▏| 172M/176M [00:42<00:02, 1.30MB/s]\u001b[A\n",
            " 98%|██████████████████████████████████████▏| 172M/176M [00:42<00:02, 1.32MB/s]\u001b[A\n",
            " 98%|██████████████████████████████████████▏| 172M/176M [00:42<00:02, 1.35MB/s]\u001b[A\n",
            " 98%|██████████████████████████████████████▏| 173M/176M [00:42<00:02, 1.37MB/s]\u001b[A\n",
            " 98%|██████████████████████████████████████▎| 173M/176M [00:43<00:02, 1.39MB/s]\u001b[A\n",
            " 98%|██████████████████████████████████████▎| 173M/176M [00:43<00:02, 1.21MB/s]\u001b[A\n",
            " 98%|██████████████████████████████████████▎| 173M/176M [00:43<00:02, 1.41MB/s]\u001b[A\n",
            " 98%|██████████████████████████████████████▍| 173M/176M [00:43<00:02, 1.36MB/s]\u001b[A\n",
            " 99%|██████████████████████████████████████▍| 173M/176M [00:43<00:02, 1.29MB/s]\u001b[A\n",
            " 99%|██████████████████████████████████████▍| 174M/176M [00:43<00:01, 1.27MB/s]\u001b[A\n",
            " 99%|██████████████████████████████████████▍| 174M/176M [00:43<00:01, 1.25MB/s]\u001b[A\n",
            " 99%|██████████████████████████████████████▌| 174M/176M [00:43<00:01, 1.24MB/s]\u001b[A\n",
            " 99%|██████████████████████████████████████▌| 174M/176M [00:44<00:01, 1.27MB/s]\u001b[A\n",
            " 99%|██████████████████████████████████████▌| 174M/176M [00:44<00:01, 1.30MB/s]\u001b[A\n",
            " 99%|██████████████████████████████████████▌| 174M/176M [00:44<00:01, 1.31MB/s]\u001b[A\n",
            " 99%|██████████████████████████████████████▋| 174M/176M [00:44<00:01, 1.33MB/s]\u001b[A\n",
            " 99%|██████████████████████████████████████▋| 175M/176M [00:44<00:01, 1.35MB/s]\u001b[A\n",
            " 99%|██████████████████████████████████████▋| 175M/176M [00:44<00:00, 1.36MB/s]\u001b[A\n",
            " 99%|██████████████████████████████████████▋| 175M/176M [00:44<00:00, 1.38MB/s]\u001b[A\n",
            " 99%|██████████████████████████████████████▊| 175M/176M [00:44<00:00, 1.41MB/s]\u001b[A\n",
            " 99%|██████████████████████████████████████▊| 175M/176M [00:44<00:00, 1.45MB/s]\u001b[A\n",
            "100%|██████████████████████████████████████▊| 175M/176M [00:44<00:00, 1.47MB/s]\u001b[A\n",
            "100%|██████████████████████████████████████▉| 175M/176M [00:45<00:00, 1.51MB/s]\u001b[A\n",
            "100%|██████████████████████████████████████▉| 176M/176M [00:45<00:00, 1.53MB/s]\u001b[A\n",
            "100%|██████████████████████████████████████▉| 176M/176M [00:45<00:00, 1.60MB/s]\u001b[A\n",
            "100%|██████████████████████████████████████▉| 176M/176M [00:45<00:00, 1.59MB/s]\u001b[A\n",
            "100%|███████████████████████████████████████| 176M/176M [00:00<00:00, 83.7GB/s]\n",
            "Preparing images: 100%|██████████| 5/5 [01:22<00:00, 16.60s/it]\n"
          ]
        }
      ],
      "source": [
        "new_size = get_new_size(files[0])\n",
        "create_empty_dir(processed_input_dir)\n",
        "prepare_images(INPUT_DIR, processed_input_dir, preprocess_faces, new_size, reference_img_name=REFERENCE_IMG_NAME, fix_lighting=FIX_LIGHTING)\n",
        "files = get_sorted_images(processed_input_dir)\n"
      ]
    },
    {
      "cell_type": "code",
      "execution_count": 35,
      "metadata": {
        "colab": {
          "base_uri": "https://localhost:8080/"
        },
        "id": "84ttPnPT7K3Z",
        "outputId": "b6e90c12-37c3-45ea-92a7-f96387648c28"
      },
      "outputs": [
        {
          "name": "stdout",
          "output_type": "stream",
          "text": [
            "preprocessed images in /tmp/tmpqjc2y8sz\n",
            "file count 5\n"
          ]
        }
      ],
      "source": [
        "print('preprocessed images in', processed_input_dir)\n",
        "print('file count', len(files))"
      ]
    },
    {
      "cell_type": "code",
      "execution_count": 36,
      "metadata": {
        "colab": {
          "base_uri": "https://localhost:8080/"
        },
        "id": "u5gnR-pS3k2l",
        "outputId": "c011be19-bf08-4654-bd33-0f8f1800c9f4"
      },
      "outputs": [
        {
          "name": "stdout",
          "output_type": "stream",
          "text": [
            "Filename: /tmp/tmpqjc2y8sz/1992_deewana.jpg\n",
            "Filename: /tmp/tmpqjc2y8sz/1993_baazigar.jpg\n",
            "Filename: /tmp/tmpqjc2y8sz/1995_ddlj.jpg\n",
            "Filename: /tmp/tmpqjc2y8sz/1998_kuch_kuch_hota_hai.jpg\n",
            "Filename: /tmp/tmpqjc2y8sz/2003_kal_ho_na_ho.jpeg\n"
          ]
        }
      ],
      "source": [
        "if not equal_intervals:\n",
        "    for file in files:\n",
        "\n",
        "      timestamp = string_to_timestamp(Path(file).stem)\n",
        "      print(f\"Filename: {file}, Datetime: {timestamp}\")\n",
        "else:\n",
        "   for file in files:\n",
        "      print(f\"Filename: {file}\")"
      ]
    },
    {
      "cell_type": "code",
      "execution_count": 37,
      "metadata": {
        "colab": {
          "base_uri": "https://localhost:8080/"
        },
        "id": "344GgQzX3k2l",
        "outputId": "5f06be88-f5ff-486e-ef35-0ac9e835ff22"
      },
      "outputs": [
        {
          "name": "stdout",
          "output_type": "stream",
          "text": [
            "Total frames: 5\n",
            "processing frame 0\n"
          ]
        },
        {
          "name": "stderr",
          "output_type": "stream",
          "text": [
            "100%|\u001b[32m█████████████████████████████████████████████████████████████████\u001b[0m| 3/3 [00:30<00:00, 10.27s/it]\u001b[0m\n"
          ]
        },
        {
          "name": "stdout",
          "output_type": "stream",
          "text": [
            "processing frame 1\n"
          ]
        },
        {
          "name": "stderr",
          "output_type": "stream",
          "text": [
            "100%|\u001b[32m█████████████████████████████████████████████████████████████████\u001b[0m| 3/3 [00:04<00:00,  1.35s/it]\u001b[0m\n"
          ]
        },
        {
          "name": "stdout",
          "output_type": "stream",
          "text": [
            "processing frame 2\n"
          ]
        },
        {
          "name": "stderr",
          "output_type": "stream",
          "text": [
            "100%|\u001b[32m█████████████████████████████████████████████████████████████████\u001b[0m| 3/3 [00:04<00:00,  1.36s/it]\u001b[0m\n"
          ]
        },
        {
          "name": "stdout",
          "output_type": "stream",
          "text": [
            "processing frame 3\n"
          ]
        },
        {
          "name": "stderr",
          "output_type": "stream",
          "text": [
            "100%|\u001b[32m█████████████████████████████████████████████████████████████████\u001b[0m| 3/3 [00:04<00:00,  1.37s/it]\u001b[0m\n"
          ]
        }
      ],
      "source": [
        "# Iterate through pairs of consecutive frames\n",
        "\n",
        "interpolator_model = interpolator.Interpolator(MODEL_PATH, None)\n",
        "print('Total frames:', len(files))\n",
        "create_empty_dir(OUTPUT_DIR)\n",
        "for i in range(len(files) - 1):\n",
        "    print('processing frame', i)\n",
        "    start_filename = files[i]\n",
        "    end_filename = files[i + 1]\n",
        "\n",
        "    if not equal_intervals:\n",
        "        start_time = string_to_timestamp(Path(start_filename).stem)\n",
        "        end_time = string_to_timestamp(Path(end_filename).stem)\n",
        "\n",
        "    # Calculate times_to_interpolate for the required number of intermediate frames\n",
        "    if equal_intervals:\n",
        "          num_frames_needed = MAX_INTERPOLATED_FRAMES\n",
        "    else:\n",
        "          # Calculate the time difference in hours\n",
        "          time_diff = (end_time - start_time).total_seconds()\n",
        "          num_frames_needed = round(time_diff / min_frame_duration) - 1\n",
        "          num_frames_needed = min(num_frames_needed, MAX_INTERPOLATED_FRAMES)\n",
        "    times_to_interpolate = math.ceil(math.log2(num_frames_needed+1))  # n_intermediate = 2^k - 1\n",
        "\n",
        "    frame_1 = start_filename\n",
        "    frame_2 = end_filename\n",
        "    output_frames = interpolate_frames(frame_1, frame_2, times_to_interpolate, interpolator_model)\n",
        "\n",
        "    create_empty_dir(temp_interpolated_frames_dir)\n",
        "    save_frames(output_frames, temp_interpolated_frames_dir)\n",
        "    interpolated_files = get_sorted_images(temp_interpolated_frames_dir)\n",
        "\n",
        "    if not equal_intervals:\n",
        "        timestamps = np.linspace(start_time.timestamp(), end_time.timestamp(), len(interpolated_files))\n",
        "        # find required frames from generated frames (can be extra)\n",
        "        chosen_timestamps = choose_evenly_spaced_timestamps(timestamps, num_frames_needed+2)\n",
        "\n",
        "        for filename, timestamp in zip(interpolated_files, timestamps):\n",
        "            if timestamp not in chosen_timestamps:\n",
        "                continue\n",
        "            new_filename = Path(OUTPUT_DIR) / f\"{timestamp_to_string(timestamp)}{Path(filename).suffix}\"\n",
        "            shutil.copyfile(filename, new_filename)\n",
        "    else:\n",
        "        for interp_index, filename in enumerate(interpolated_files[:-1]):\n",
        "          new_filename = Path(OUTPUT_DIR) / f\"{Path(start_filename).stem}_{interp_index:04d}{Path(filename).suffix}\"\n",
        "          shutil.copyfile(filename, new_filename)\n",
        "          # include end frame in last iteration\n",
        "          if i == len(files) - 2:\n",
        "              new_filename = Path(processed_input_dir) / f\"{Path(end_filename).stem}_0000{Path(filename).suffix}\"\n",
        "              shutil.copyfile(end_filename, new_filename)\n",
        "\n"
      ]
    },
    {
      "cell_type": "code",
      "execution_count": 41,
      "metadata": {
        "colab": {
          "base_uri": "https://localhost:8080/"
        },
        "id": "-gYJ3OTObImX",
        "outputId": "ad40770c-484d-418b-d88a-0289d04fe4b2"
      },
      "outputs": [
        {
          "name": "stdout",
          "output_type": "stream",
          "text": [
            "TensorFlow version: 2.18.0\n",
            "Num GPUs Available: 1\n"
          ]
        }
      ],
      "source": [
        "\n",
        "print(\"TensorFlow version:\", tf.__version__)\n",
        "print(\"Num GPUs Available:\", len(tf.config.list_physical_devices('GPU')))"
      ]
    },
    {
      "cell_type": "code",
      "execution_count": null,
      "metadata": {
        "colab": {
          "base_uri": "https://localhost:8080/"
        },
        "id": "jC0lnT4o3k2l",
        "outputId": "e31ed787-7bbe-42fa-e00e-0443be890363"
      },
      "outputs": [
        {
          "name": "stdout",
          "output_type": "stream",
          "text": [
            "Video saved to: output_frames/shahrukh-khan.mp4\n"
          ]
        }
      ],
      "source": [
        "\n",
        "# generate video from output directory\n",
        "output_path = str(OUTPUT_DIR) + '.mp4'\n",
        "\n",
        "write_video_from_images(OUTPUT_DIR, output_path, VIDEO_FPS)"
      ]
    },
    {
      "cell_type": "code",
      "execution_count": 40,
      "metadata": {
        "id": "mTnaWkjeEH3d"
      },
      "outputs": [],
      "source": [
        "# todo: try GAN using https://github.com/eladrich/pixel2style2pixel"
      ]
    },
    {
      "cell_type": "code",
      "execution_count": null,
      "metadata": {
        "id": "JptB_5ZkZ2Ut"
      },
      "outputs": [],
      "source": []
    }
  ],
  "metadata": {
    "accelerator": "GPU",
    "colab": {
      "gpuType": "T4",
      "provenance": []
    },
    "kernelspec": {
      "display_name": "gputf",
      "language": "python",
      "name": "python3"
    },
    "language_info": {
      "codemirror_mode": {
        "name": "ipython",
        "version": 3
      },
      "file_extension": ".py",
      "mimetype": "text/x-python",
      "name": "python",
      "nbconvert_exporter": "python",
      "pygments_lexer": "ipython3",
      "version": "3.10.13"
    }
  },
  "nbformat": 4,
  "nbformat_minor": 0
}
